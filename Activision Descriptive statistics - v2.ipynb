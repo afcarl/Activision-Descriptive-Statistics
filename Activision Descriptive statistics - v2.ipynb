{
 "cells": [
  {
   "cell_type": "code",
   "execution_count": 374,
   "metadata": {
    "collapsed": false
   },
   "outputs": [
    {
     "name": "stdout",
     "output_type": "stream",
     "text": [
      "Populating the interactive namespace from numpy and matplotlib\n"
     ]
    }
   ],
   "source": [
    "%pylab inline\n",
    "\n",
    "import pandas as pd\n",
    "import numpy as np\n",
    "import datetime as dt\n",
    "import time\n",
    "import matplotlib.pyplot as plt\n",
    "import scipy.stats as stats\n",
    "import preprocess\n",
    "\n",
    "matplotlib.pyplot.style.use = 'default'"
   ]
  },
  {
   "cell_type": "code",
   "execution_count": null,
   "metadata": {
    "collapsed": false
   },
   "outputs": [],
   "source": []
  },
  {
   "cell_type": "code",
   "execution_count": 178,
   "metadata": {
    "collapsed": true
   },
   "outputs": [],
   "source": [
    "stat_data = {}"
   ]
  },
  {
   "cell_type": "code",
   "execution_count": 179,
   "metadata": {
    "collapsed": false
   },
   "outputs": [],
   "source": [
    "employment_info = pd.read_csv('data/500candidate_employment_info.csv', delimiter=',')\n",
    "general_info = pd.read_csv('data/500candidate_general_info.csv', delimiter=',')\n",
    "skill_info = pd.read_csv('data/500candidates_skill_info.csv', delimiter=',')\n",
    "edu_info  = pd.read_csv('data/500candidate_education_info.csv', delimiter=',')\n",
    "data = employment_info"
   ]
  },
  {
   "cell_type": "code",
   "execution_count": 180,
   "metadata": {
    "collapsed": false
   },
   "outputs": [],
   "source": [
    "# print '%s candidate have no gender in %s' % (len(data[pd.isnull(data.candidate_gender)]), len(data))"
   ]
  },
  {
   "cell_type": "code",
   "execution_count": 181,
   "metadata": {
    "collapsed": false
   },
   "outputs": [
    {
     "data": {
      "text/plain": [
       "2000"
      ]
     },
     "execution_count": 181,
     "metadata": {},
     "output_type": "execute_result"
    }
   ],
   "source": [
    "len(data)"
   ]
  },
  {
   "cell_type": "code",
   "execution_count": 182,
   "metadata": {
    "collapsed": false
   },
   "outputs": [],
   "source": [
    "def clean_datetime(data):\n",
    "    data.c_employment_job_start = data.c_employment_job_start.map(preprocess.clean_datetime)\n",
    "    data.c_employment_job_end = data.c_employment_job_end.map(preprocess.clean_datetime)\n",
    "    \n",
    "    data = data[~pd.isnull(data['c_employment_job_start'])]\n",
    "    \n",
    "    return data"
   ]
  },
  {
   "cell_type": "code",
   "execution_count": 183,
   "metadata": {
    "collapsed": false
   },
   "outputs": [
    {
     "name": "stdout",
     "output_type": "stream",
     "text": [
      "'str' object has no attribute 'date'\n"
     ]
    }
   ],
   "source": [
    "data = clean_datetime(data)"
   ]
  },
  {
   "cell_type": "code",
   "execution_count": 184,
   "metadata": {
    "collapsed": false
   },
   "outputs": [],
   "source": [
    "data = data.rename(columns = {'c_employment_employer_name':'employer'})"
   ]
  },
  {
   "cell_type": "code",
   "execution_count": 185,
   "metadata": {
    "collapsed": false,
    "scrolled": true
   },
   "outputs": [
    {
     "data": {
      "text/html": [
       "<div>\n",
       "<table border=\"1\" class=\"dataframe\">\n",
       "  <thead>\n",
       "    <tr style=\"text-align: right;\">\n",
       "      <th></th>\n",
       "      <th>candidate_id</th>\n",
       "      <th>candidate_surname</th>\n",
       "      <th>candidate_name</th>\n",
       "      <th>c_employment_id</th>\n",
       "      <th>employer</th>\n",
       "      <th>job_title</th>\n",
       "      <th>job_title_desc</th>\n",
       "      <th>c_employment_job_start</th>\n",
       "      <th>c_employment_job_end</th>\n",
       "    </tr>\n",
       "  </thead>\n",
       "  <tbody>\n",
       "    <tr>\n",
       "      <th>0</th>\n",
       "      <td>2315074</td>\n",
       "      <td>Black</td>\n",
       "      <td>Eric</td>\n",
       "      <td>23237972</td>\n",
       "      <td>Sucker Punch Productions</td>\n",
       "      <td>Sr. Character Tech. Artist</td>\n",
       "      <td>NaN</td>\n",
       "      <td>2016-05-01</td>\n",
       "      <td>Current</td>\n",
       "    </tr>\n",
       "    <tr>\n",
       "      <th>1</th>\n",
       "      <td>2315074</td>\n",
       "      <td>Black</td>\n",
       "      <td>Eric</td>\n",
       "      <td>23237973</td>\n",
       "      <td>Microsoft (343 Industries)</td>\n",
       "      <td>Sr. Animation TD</td>\n",
       "      <td>NaN</td>\n",
       "      <td>2015-09-01</td>\n",
       "      <td>2016-05-01</td>\n",
       "    </tr>\n",
       "    <tr>\n",
       "      <th>2</th>\n",
       "      <td>2315074</td>\n",
       "      <td>Black</td>\n",
       "      <td>Eric</td>\n",
       "      <td>23237974</td>\n",
       "      <td>Microsoft (343 Industries)</td>\n",
       "      <td>Sr. Cinematics TD</td>\n",
       "      <td>NaN</td>\n",
       "      <td>2013-09-01</td>\n",
       "      <td>2016-05-01</td>\n",
       "    </tr>\n",
       "    <tr>\n",
       "      <th>3</th>\n",
       "      <td>2315074</td>\n",
       "      <td>Black</td>\n",
       "      <td>Eric</td>\n",
       "      <td>23237975</td>\n",
       "      <td>Microsoft  (343 Industries)</td>\n",
       "      <td>Cinematics TD</td>\n",
       "      <td>NaN</td>\n",
       "      <td>2011-05-01</td>\n",
       "      <td>2016-05-01</td>\n",
       "    </tr>\n",
       "    <tr>\n",
       "      <th>4</th>\n",
       "      <td>2315074</td>\n",
       "      <td>Black</td>\n",
       "      <td>Eric</td>\n",
       "      <td>23237976</td>\n",
       "      <td>Sony Online Entertainment</td>\n",
       "      <td>Tech. Artist</td>\n",
       "      <td>While at SOE Seattle I performed many duties a...</td>\n",
       "      <td>2010-04-01</td>\n",
       "      <td>2011-05-01</td>\n",
       "    </tr>\n",
       "    <tr>\n",
       "      <th>5</th>\n",
       "      <td>2315074</td>\n",
       "      <td>Black</td>\n",
       "      <td>Eric</td>\n",
       "      <td>23237977</td>\n",
       "      <td>Activision Inc.</td>\n",
       "      <td>Character Tech. Artist</td>\n",
       "      <td>-  Develop and test character pipelines for va...</td>\n",
       "      <td>2006-05-01</td>\n",
       "      <td>2010-04-01</td>\n",
       "    </tr>\n",
       "    <tr>\n",
       "      <th>6</th>\n",
       "      <td>2315074</td>\n",
       "      <td>Black</td>\n",
       "      <td>Eric</td>\n",
       "      <td>23237978</td>\n",
       "      <td>4 Front Studios</td>\n",
       "      <td>Intern</td>\n",
       "      <td>NaN</td>\n",
       "      <td>2005-01-01</td>\n",
       "      <td>2006-01-01</td>\n",
       "    </tr>\n",
       "    <tr>\n",
       "      <th>7</th>\n",
       "      <td>2313410</td>\n",
       "      <td>Cave</td>\n",
       "      <td>Robert</td>\n",
       "      <td>23216062</td>\n",
       "      <td>Bloomberg LP</td>\n",
       "      <td>Cyber Security Analyst</td>\n",
       "      <td>NaN</td>\n",
       "      <td>2015-03-01</td>\n",
       "      <td>Current</td>\n",
       "    </tr>\n",
       "    <tr>\n",
       "      <th>8</th>\n",
       "      <td>2313410</td>\n",
       "      <td>Cave</td>\n",
       "      <td>Robert</td>\n",
       "      <td>23216063</td>\n",
       "      <td>Activision</td>\n",
       "      <td>Senior Information Security Specialist</td>\n",
       "      <td>Lead incident response investigator for corpor...</td>\n",
       "      <td>2014-10-01</td>\n",
       "      <td>Current</td>\n",
       "    </tr>\n",
       "    <tr>\n",
       "      <th>9</th>\n",
       "      <td>2313410</td>\n",
       "      <td>Cave</td>\n",
       "      <td>Robert</td>\n",
       "      <td>23216064</td>\n",
       "      <td>Cigna</td>\n",
       "      <td>Information Security Senior Specialist</td>\n",
       "      <td>Responsible for all incident response and malw...</td>\n",
       "      <td>2012-05-01</td>\n",
       "      <td>2014-06-01</td>\n",
       "    </tr>\n",
       "  </tbody>\n",
       "</table>\n",
       "</div>"
      ],
      "text/plain": [
       "   candidate_id candidate_surname candidate_name  c_employment_id  \\\n",
       "0       2315074             Black           Eric         23237972   \n",
       "1       2315074             Black           Eric         23237973   \n",
       "2       2315074             Black           Eric         23237974   \n",
       "3       2315074             Black           Eric         23237975   \n",
       "4       2315074             Black           Eric         23237976   \n",
       "5       2315074             Black           Eric         23237977   \n",
       "6       2315074             Black           Eric         23237978   \n",
       "7       2313410              Cave         Robert         23216062   \n",
       "8       2313410              Cave         Robert         23216063   \n",
       "9       2313410              Cave         Robert         23216064   \n",
       "\n",
       "                      employer                               job_title  \\\n",
       "0     Sucker Punch Productions              Sr. Character Tech. Artist   \n",
       "1   Microsoft (343 Industries)                        Sr. Animation TD   \n",
       "2   Microsoft (343 Industries)                       Sr. Cinematics TD   \n",
       "3  Microsoft  (343 Industries)                           Cinematics TD   \n",
       "4    Sony Online Entertainment                            Tech. Artist   \n",
       "5              Activision Inc.                  Character Tech. Artist   \n",
       "6              4 Front Studios                                  Intern   \n",
       "7                 Bloomberg LP                  Cyber Security Analyst   \n",
       "8                   Activision  Senior Information Security Specialist   \n",
       "9                        Cigna  Information Security Senior Specialist   \n",
       "\n",
       "                                      job_title_desc c_employment_job_start  \\\n",
       "0                                                NaN             2016-05-01   \n",
       "1                                                NaN             2015-09-01   \n",
       "2                                                NaN             2013-09-01   \n",
       "3                                                NaN             2011-05-01   \n",
       "4  While at SOE Seattle I performed many duties a...             2010-04-01   \n",
       "5  -  Develop and test character pipelines for va...             2006-05-01   \n",
       "6                                                NaN             2005-01-01   \n",
       "7                                                NaN             2015-03-01   \n",
       "8  Lead incident response investigator for corpor...             2014-10-01   \n",
       "9  Responsible for all incident response and malw...             2012-05-01   \n",
       "\n",
       "  c_employment_job_end  \n",
       "0              Current  \n",
       "1           2016-05-01  \n",
       "2           2016-05-01  \n",
       "3           2016-05-01  \n",
       "4           2011-05-01  \n",
       "5           2010-04-01  \n",
       "6           2006-01-01  \n",
       "7              Current  \n",
       "8              Current  \n",
       "9           2014-06-01  "
      ]
     },
     "execution_count": 185,
     "metadata": {},
     "output_type": "execute_result"
    }
   ],
   "source": [
    "data.head(10)"
   ]
  },
  {
   "cell_type": "markdown",
   "metadata": {},
   "source": [
    "## Working Experience (before working for Activision)"
   ]
  },
  {
   "cell_type": "code",
   "execution_count": 186,
   "metadata": {
    "collapsed": false
   },
   "outputs": [
    {
     "data": {
      "text/plain": [
       "datetime.date(1977, 1, 1)"
      ]
     },
     "execution_count": 186,
     "metadata": {},
     "output_type": "execute_result"
    }
   ],
   "source": [
    "data['c_employment_job_start'].min()"
   ]
  },
  {
   "cell_type": "code",
   "execution_count": 200,
   "metadata": {
    "collapsed": false
   },
   "outputs": [],
   "source": [
    "def working_experience(data):\n",
    "    data_working_exp = pd.DataFrame(data['candidate_id'].unique(), columns=['candidate_id'])\n",
    "    for candidate_current_id in data['candidate_id'].unique():\n",
    "        candidate_current = data[data.candidate_id == candidate_current_id]\n",
    "        \n",
    "        try:\n",
    "            first_working_for_activision = candidate_current[candidate_current.employer == 'Activision']\n",
    "            min_time = first_working_for_activision['c_employment_job_start'].min()\n",
    "#             first_working_for_activision = first_working_for_activision[first_working_for_activision.c_employment_job_start == min_time]\n",
    "        except:\n",
    "            min_time = dt.datetime.now().date()\n",
    "        \n",
    "        total_time = 0\n",
    "        for index, row in candidate_current.iterrows():\n",
    "            if row.c_employment_job_end == 'Current' or row.c_employment_job_end == None:\n",
    "                row.c_employment_job_end = dt.datetime.now().date()\n",
    "            if row.c_employment_job_start == None:\n",
    "                row.c_employment_job_start = dt.datetime.now().date()\n",
    "            \n",
    "            if isinstance(min_time, datetime.date) and row.c_employment_job_end < min_time:\n",
    "                result = (row.c_employment_job_end - row.c_employment_job_start).days\n",
    "                if result > 0:\n",
    "                    total_time = total_time + result\n",
    "\n",
    "        total_time = total_time / 365\n",
    "\n",
    "        data_working_exp.loc[data_working_exp.candidate_id == candidate_current_id, 'working_exp'] = total_time\n",
    "    return data_working_exp"
   ]
  },
  {
   "cell_type": "code",
   "execution_count": 201,
   "metadata": {
    "collapsed": false
   },
   "outputs": [],
   "source": [
    "processed_working_exp = working_experience(data)"
   ]
  },
  {
   "cell_type": "code",
   "execution_count": 202,
   "metadata": {
    "collapsed": false
   },
   "outputs": [
    {
     "data": {
      "text/html": [
       "<div>\n",
       "<table border=\"1\" class=\"dataframe\">\n",
       "  <thead>\n",
       "    <tr style=\"text-align: right;\">\n",
       "      <th></th>\n",
       "      <th>candidate_id</th>\n",
       "      <th>working_exp</th>\n",
       "    </tr>\n",
       "  </thead>\n",
       "  <tbody>\n",
       "    <tr>\n",
       "      <th>0</th>\n",
       "      <td>2315074</td>\n",
       "      <td>0.0</td>\n",
       "    </tr>\n",
       "    <tr>\n",
       "      <th>1</th>\n",
       "      <td>2313410</td>\n",
       "      <td>7.0</td>\n",
       "    </tr>\n",
       "    <tr>\n",
       "      <th>2</th>\n",
       "      <td>2311327</td>\n",
       "      <td>1.0</td>\n",
       "    </tr>\n",
       "    <tr>\n",
       "      <th>3</th>\n",
       "      <td>2311253</td>\n",
       "      <td>6.0</td>\n",
       "    </tr>\n",
       "  </tbody>\n",
       "</table>\n",
       "</div>"
      ],
      "text/plain": [
       "   candidate_id  working_exp\n",
       "0       2315074          0.0\n",
       "1       2313410          7.0\n",
       "2       2311327          1.0\n",
       "3       2311253          6.0"
      ]
     },
     "execution_count": 202,
     "metadata": {},
     "output_type": "execute_result"
    }
   ],
   "source": [
    "processed_working_exp[:4]"
   ]
  },
  {
   "cell_type": "code",
   "execution_count": null,
   "metadata": {
    "collapsed": false
   },
   "outputs": [],
   "source": []
  },
  {
   "cell_type": "code",
   "execution_count": 204,
   "metadata": {
    "collapsed": false
   },
   "outputs": [
    {
     "data": {
      "text/html": [
       "<div>\n",
       "<table border=\"1\" class=\"dataframe\">\n",
       "  <thead>\n",
       "    <tr style=\"text-align: right;\">\n",
       "      <th></th>\n",
       "      <th>candidate_id</th>\n",
       "      <th>candidate_surname</th>\n",
       "      <th>candidate_name</th>\n",
       "      <th>c_employment_id</th>\n",
       "      <th>employer</th>\n",
       "      <th>job_title</th>\n",
       "      <th>job_title_desc</th>\n",
       "      <th>c_employment_job_start</th>\n",
       "      <th>c_employment_job_end</th>\n",
       "    </tr>\n",
       "  </thead>\n",
       "  <tbody>\n",
       "    <tr>\n",
       "      <th>0</th>\n",
       "      <td>2315074</td>\n",
       "      <td>Black</td>\n",
       "      <td>Eric</td>\n",
       "      <td>23237972</td>\n",
       "      <td>Sucker Punch Productions</td>\n",
       "      <td>Sr. Character Tech. Artist</td>\n",
       "      <td>NaN</td>\n",
       "      <td>2016-05-01</td>\n",
       "      <td>Current</td>\n",
       "    </tr>\n",
       "    <tr>\n",
       "      <th>1</th>\n",
       "      <td>2315074</td>\n",
       "      <td>Black</td>\n",
       "      <td>Eric</td>\n",
       "      <td>23237973</td>\n",
       "      <td>Microsoft (343 Industries)</td>\n",
       "      <td>Sr. Animation TD</td>\n",
       "      <td>NaN</td>\n",
       "      <td>2015-09-01</td>\n",
       "      <td>2016-05-01</td>\n",
       "    </tr>\n",
       "    <tr>\n",
       "      <th>2</th>\n",
       "      <td>2315074</td>\n",
       "      <td>Black</td>\n",
       "      <td>Eric</td>\n",
       "      <td>23237974</td>\n",
       "      <td>Microsoft (343 Industries)</td>\n",
       "      <td>Sr. Cinematics TD</td>\n",
       "      <td>NaN</td>\n",
       "      <td>2013-09-01</td>\n",
       "      <td>2016-05-01</td>\n",
       "    </tr>\n",
       "    <tr>\n",
       "      <th>3</th>\n",
       "      <td>2315074</td>\n",
       "      <td>Black</td>\n",
       "      <td>Eric</td>\n",
       "      <td>23237975</td>\n",
       "      <td>Microsoft  (343 Industries)</td>\n",
       "      <td>Cinematics TD</td>\n",
       "      <td>NaN</td>\n",
       "      <td>2011-05-01</td>\n",
       "      <td>2016-05-01</td>\n",
       "    </tr>\n",
       "    <tr>\n",
       "      <th>4</th>\n",
       "      <td>2315074</td>\n",
       "      <td>Black</td>\n",
       "      <td>Eric</td>\n",
       "      <td>23237976</td>\n",
       "      <td>Sony Online Entertainment</td>\n",
       "      <td>Tech. Artist</td>\n",
       "      <td>While at SOE Seattle I performed many duties a...</td>\n",
       "      <td>2010-04-01</td>\n",
       "      <td>2011-05-01</td>\n",
       "    </tr>\n",
       "    <tr>\n",
       "      <th>5</th>\n",
       "      <td>2315074</td>\n",
       "      <td>Black</td>\n",
       "      <td>Eric</td>\n",
       "      <td>23237977</td>\n",
       "      <td>Activision Inc.</td>\n",
       "      <td>Character Tech. Artist</td>\n",
       "      <td>-  Develop and test character pipelines for va...</td>\n",
       "      <td>2006-05-01</td>\n",
       "      <td>2010-04-01</td>\n",
       "    </tr>\n",
       "    <tr>\n",
       "      <th>6</th>\n",
       "      <td>2315074</td>\n",
       "      <td>Black</td>\n",
       "      <td>Eric</td>\n",
       "      <td>23237978</td>\n",
       "      <td>4 Front Studios</td>\n",
       "      <td>Intern</td>\n",
       "      <td>NaN</td>\n",
       "      <td>2005-01-01</td>\n",
       "      <td>2006-01-01</td>\n",
       "    </tr>\n",
       "  </tbody>\n",
       "</table>\n",
       "</div>"
      ],
      "text/plain": [
       "   candidate_id candidate_surname candidate_name  c_employment_id  \\\n",
       "0       2315074             Black           Eric         23237972   \n",
       "1       2315074             Black           Eric         23237973   \n",
       "2       2315074             Black           Eric         23237974   \n",
       "3       2315074             Black           Eric         23237975   \n",
       "4       2315074             Black           Eric         23237976   \n",
       "5       2315074             Black           Eric         23237977   \n",
       "6       2315074             Black           Eric         23237978   \n",
       "\n",
       "                      employer                   job_title  \\\n",
       "0     Sucker Punch Productions  Sr. Character Tech. Artist   \n",
       "1   Microsoft (343 Industries)            Sr. Animation TD   \n",
       "2   Microsoft (343 Industries)           Sr. Cinematics TD   \n",
       "3  Microsoft  (343 Industries)               Cinematics TD   \n",
       "4    Sony Online Entertainment                Tech. Artist   \n",
       "5              Activision Inc.      Character Tech. Artist   \n",
       "6              4 Front Studios                      Intern   \n",
       "\n",
       "                                      job_title_desc c_employment_job_start  \\\n",
       "0                                                NaN             2016-05-01   \n",
       "1                                                NaN             2015-09-01   \n",
       "2                                                NaN             2013-09-01   \n",
       "3                                                NaN             2011-05-01   \n",
       "4  While at SOE Seattle I performed many duties a...             2010-04-01   \n",
       "5  -  Develop and test character pipelines for va...             2006-05-01   \n",
       "6                                                NaN             2005-01-01   \n",
       "\n",
       "  c_employment_job_end  \n",
       "0              Current  \n",
       "1           2016-05-01  \n",
       "2           2016-05-01  \n",
       "3           2016-05-01  \n",
       "4           2011-05-01  \n",
       "5           2010-04-01  \n",
       "6           2006-01-01  "
      ]
     },
     "execution_count": 204,
     "metadata": {},
     "output_type": "execute_result"
    }
   ],
   "source": [
    "# Testing\n",
    "data[data['candidate_id'] == 2315074]"
   ]
  },
  {
   "cell_type": "code",
   "execution_count": 205,
   "metadata": {
    "collapsed": false
   },
   "outputs": [
    {
     "data": {
      "text/plain": [
       "<matplotlib.axes._subplots.AxesSubplot at 0xf2e0748>"
      ]
     },
     "execution_count": 205,
     "metadata": {},
     "output_type": "execute_result"
    },
    {
     "data": {
      "image/png": "[encoded data removed]",
      "text/plain": [
       "<matplotlib.figure.Figure at 0xeed70b8>"
      ]
     },
     "metadata": {},
     "output_type": "display_data"
    }
   ],
   "source": [
    "processed_working_exp.working_exp.plot.box(showmeans=True, figsize=(4,8))"
   ]
  },
  {
   "cell_type": "code",
   "execution_count": 206,
   "metadata": {
    "collapsed": false
   },
   "outputs": [
    {
     "data": {
      "text/plain": [
       "{'working_exp': 2.288256227758007}"
      ]
     },
     "execution_count": 206,
     "metadata": {},
     "output_type": "execute_result"
    }
   ],
   "source": [
    "stat_data['working_exp'] = processed_working_exp.working_exp.mean()\n",
    "stat_data"
   ]
  },
  {
   "cell_type": "code",
   "execution_count": null,
   "metadata": {
    "collapsed": false
   },
   "outputs": [],
   "source": []
  },
  {
   "cell_type": "markdown",
   "metadata": {
    "collapsed": true
   },
   "source": [
    "## Working time"
   ]
  },
  {
   "cell_type": "code",
   "execution_count": 207,
   "metadata": {
    "collapsed": true
   },
   "outputs": [],
   "source": [
    "from lifelines import KaplanMeierFitter"
   ]
  },
  {
   "cell_type": "code",
   "execution_count": 219,
   "metadata": {
    "collapsed": false
   },
   "outputs": [
    {
     "name": "stdout",
     "output_type": "stream",
     "text": [
      "14.0\n"
     ]
    },
    {
     "data": {
      "image/png": "[encoded data removed]",
      "text/plain": [
       "<matplotlib.figure.Figure at 0x116791d0>"
      ]
     },
     "metadata": {},
     "output_type": "display_data"
    }
   ],
   "source": [
    "T, E = [], []\n",
    "def t(working_time_data_each):\n",
    "    global T, E\n",
    "    total_time = 0\n",
    "    censor = 0\n",
    "    for index, row in working_time_data_each.iterrows():\n",
    "        if row.c_employment_job_end == 'Current' or row.c_employment_job_end == None:\n",
    "            row.c_employment_job_end = dt.datetime.now().date()\n",
    "            censor = 1\n",
    "        if row.c_employment_job_start == None:\n",
    "            row.c_employment_job_start = dt.datetime.now().date()\n",
    "        result = (row.c_employment_job_end - row.c_employment_job_start).days\n",
    "        if result > 0:\n",
    "            total_time = total_time + result\n",
    "    \n",
    "    if (total_time > 0 and total_time < 15000): # Error data, ignore who working for more than 40y\n",
    "        T.append(total_time)\n",
    "        E.append(censor)\n",
    "    if total_time == 18695:\n",
    "        print working_time_data_each\n",
    "data.groupby('candidate_id').apply(t)\n",
    "\n",
    "T_by_year = [t / 365 for t in T]\n",
    "kmf = KaplanMeierFitter()\n",
    "kmf.fit(T_by_year, event_observed=E)\n",
    "\n",
    "kmf.plot(title=\"Kaplan-Meier curve\", figsize=(10,10,))\n",
    "print kmf.median_"
   ]
  },
  {
   "cell_type": "code",
   "execution_count": 216,
   "metadata": {
    "collapsed": false
   },
   "outputs": [
    {
     "data": {
      "text/plain": [
       "{'working_exp': 2.288256227758007,\n",
       " 'working_time': 14.0,\n",
       " 'working_time_median': 14.0}"
      ]
     },
     "execution_count": 216,
     "metadata": {},
     "output_type": "execute_result"
    }
   ],
   "source": [
    "stat_data['working_time_median'] = kmf.median_\n",
    "stat_data"
   ]
  },
  {
   "cell_type": "code",
   "execution_count": null,
   "metadata": {
    "collapsed": false
   },
   "outputs": [],
   "source": []
  },
  {
   "cell_type": "markdown",
   "metadata": {},
   "source": [
    "## Number of job-hoppings"
   ]
  },
  {
   "cell_type": "code",
   "execution_count": 306,
   "metadata": {
    "collapsed": true
   },
   "outputs": [],
   "source": [
    "def first_time_working_for_activision(candidate_df):\n",
    "    try:\n",
    "        candidate_df = candidate_df[candidate_df.employer.str.contains('Activision')==True]\n",
    "        min_time = candidate_df.iloc[0].c_employment_job_start\n",
    "    except:\n",
    "        min_time = dt.datetime.now().date()\n",
    "    return min_time"
   ]
  },
  {
   "cell_type": "code",
   "execution_count": 317,
   "metadata": {
    "collapsed": false
   },
   "outputs": [],
   "source": [
    "jh_data = data\n",
    "jh_data.c_employment_job_end = jh_data.c_employment_job_end.apply(\n",
    "                lambda x: dt.datetime.now().date() if x == 'Current' else x)\n",
    "jh_data = data.drop_duplicates()\n",
    "\n",
    "jh_data2 = pd.DataFrame(columns=data.columns, dtype = data.dtypes)\n",
    "\n",
    "for candidate_current_id in jh_data['candidate_id'].unique():\n",
    "        candidate_current = jh_data[jh_data.candidate_id == candidate_current_id]\n",
    "        min_time = first_time_working_for_activision(candidate_current)\n",
    "\n",
    "        for i, row in candidate_current.iterrows():\n",
    "            if not pd.isnull(min_time) and not pd.isnull(row.c_employment_job_end) and row.c_employment_job_end <= min_time:\n",
    "                jh_data2.loc[len(jh_data2)] = row"
   ]
  },
  {
   "cell_type": "code",
   "execution_count": 312,
   "metadata": {
    "collapsed": false
   },
   "outputs": [
    {
     "data": {
      "text/html": [
       "<div>\n",
       "<table border=\"1\" class=\"dataframe\">\n",
       "  <thead>\n",
       "    <tr style=\"text-align: right;\">\n",
       "      <th></th>\n",
       "      <th>candidate_id</th>\n",
       "      <th>candidate_surname</th>\n",
       "      <th>candidate_name</th>\n",
       "      <th>c_employment_id</th>\n",
       "      <th>employer</th>\n",
       "      <th>job_title</th>\n",
       "      <th>job_title_desc</th>\n",
       "      <th>c_employment_job_start</th>\n",
       "      <th>c_employment_job_end</th>\n",
       "    </tr>\n",
       "  </thead>\n",
       "  <tbody>\n",
       "    <tr>\n",
       "      <th>0</th>\n",
       "      <td>2315074.0</td>\n",
       "      <td>Black</td>\n",
       "      <td>Eric</td>\n",
       "      <td>23237978.0</td>\n",
       "      <td>4 Front Studios</td>\n",
       "      <td>Intern</td>\n",
       "      <td>NaN</td>\n",
       "      <td>2005-01-01</td>\n",
       "      <td>2006-01-01</td>\n",
       "    </tr>\n",
       "    <tr>\n",
       "      <th>1</th>\n",
       "      <td>2313410.0</td>\n",
       "      <td>Cave</td>\n",
       "      <td>Robert</td>\n",
       "      <td>23216064.0</td>\n",
       "      <td>Cigna</td>\n",
       "      <td>Information Security Senior Specialist</td>\n",
       "      <td>Responsible for all incident response and malw...</td>\n",
       "      <td>2012-05-01</td>\n",
       "      <td>2014-06-01</td>\n",
       "    </tr>\n",
       "    <tr>\n",
       "      <th>2</th>\n",
       "      <td>2313410.0</td>\n",
       "      <td>Cave</td>\n",
       "      <td>Robert</td>\n",
       "      <td>23216065.0</td>\n",
       "      <td>JPMorgan Chase &amp; Co</td>\n",
       "      <td>Security Incident Analyst</td>\n",
       "      <td>Part of team responsible for managing/detectin...</td>\n",
       "      <td>2010-02-01</td>\n",
       "      <td>2012-04-01</td>\n",
       "    </tr>\n",
       "    <tr>\n",
       "      <th>3</th>\n",
       "      <td>2313410.0</td>\n",
       "      <td>Cave</td>\n",
       "      <td>Robert</td>\n",
       "      <td>23216066.0</td>\n",
       "      <td>Women's Club Volleyball Team, Syracuse University</td>\n",
       "      <td>Head Coach</td>\n",
       "      <td>NaN</td>\n",
       "      <td>2009-09-01</td>\n",
       "      <td>2012-04-01</td>\n",
       "    </tr>\n",
       "    <tr>\n",
       "      <th>4</th>\n",
       "      <td>2313410.0</td>\n",
       "      <td>Cave</td>\n",
       "      <td>Robert</td>\n",
       "      <td>23216067.0</td>\n",
       "      <td>JPMorgan Chase &amp; Co</td>\n",
       "      <td>Enterprise Access Admin</td>\n",
       "      <td>Responsible for administering identity and sec...</td>\n",
       "      <td>2009-06-01</td>\n",
       "      <td>2010-02-01</td>\n",
       "    </tr>\n",
       "    <tr>\n",
       "      <th>5</th>\n",
       "      <td>2313410.0</td>\n",
       "      <td>Cave</td>\n",
       "      <td>Robert</td>\n",
       "      <td>23216068.0</td>\n",
       "      <td>SysTech International</td>\n",
       "      <td>Technology Specialist</td>\n",
       "      <td>Tested, developed and introduced automated inv...</td>\n",
       "      <td>2008-05-01</td>\n",
       "      <td>2008-08-01</td>\n",
       "    </tr>\n",
       "    <tr>\n",
       "      <th>6</th>\n",
       "      <td>2311327.0</td>\n",
       "      <td>Walsh</td>\n",
       "      <td>Steven</td>\n",
       "      <td>23189884.0</td>\n",
       "      <td>West Allis Community Media Center</td>\n",
       "      <td>Graphic Designer</td>\n",
       "      <td>- Designed community slides for station\\n\\n\\n\\...</td>\n",
       "      <td>2004-09-01</td>\n",
       "      <td>2005-12-01</td>\n",
       "    </tr>\n",
       "    <tr>\n",
       "      <th>7</th>\n",
       "      <td>2311253.0</td>\n",
       "      <td>Stoker</td>\n",
       "      <td>Steve</td>\n",
       "      <td>23188172.0</td>\n",
       "      <td>Activision</td>\n",
       "      <td>Quality Assurance Tester</td>\n",
       "      <td>Worked in multiple labs, supporting diverse te...</td>\n",
       "      <td>2011-08-01</td>\n",
       "      <td>2012-10-01</td>\n",
       "    </tr>\n",
       "    <tr>\n",
       "      <th>8</th>\n",
       "      <td>2311253.0</td>\n",
       "      <td>Stoker</td>\n",
       "      <td>Steve</td>\n",
       "      <td>23188173.0</td>\n",
       "      <td>2K Games</td>\n",
       "      <td>Quality Assurance Tester</td>\n",
       "      <td>Wrote up a high volume of functionality bugs f...</td>\n",
       "      <td>2010-06-01</td>\n",
       "      <td>2011-06-01</td>\n",
       "    </tr>\n",
       "    <tr>\n",
       "      <th>9</th>\n",
       "      <td>2311253.0</td>\n",
       "      <td>Stoker</td>\n",
       "      <td>Steve</td>\n",
       "      <td>23188174.0</td>\n",
       "      <td>American Jewish University</td>\n",
       "      <td>Bookstore Clerk</td>\n",
       "      <td>Provided customer service for a wide variety o...</td>\n",
       "      <td>2010-01-01</td>\n",
       "      <td>2010-05-01</td>\n",
       "    </tr>\n",
       "    <tr>\n",
       "      <th>10</th>\n",
       "      <td>2311253.0</td>\n",
       "      <td>Stoker</td>\n",
       "      <td>Steve</td>\n",
       "      <td>23188175.0</td>\n",
       "      <td>American Jewish University</td>\n",
       "      <td>Resident Advisor</td>\n",
       "      <td>Designed a wide variety of programs for upward...</td>\n",
       "      <td>2009-01-01</td>\n",
       "      <td>2009-12-01</td>\n",
       "    </tr>\n",
       "    <tr>\n",
       "      <th>11</th>\n",
       "      <td>2311253.0</td>\n",
       "      <td>Stoker</td>\n",
       "      <td>Steve</td>\n",
       "      <td>23188176.0</td>\n",
       "      <td>Ben &amp; Jerry's</td>\n",
       "      <td>Assistant Manager</td>\n",
       "      <td>Originally started as a regular employee, was ...</td>\n",
       "      <td>2007-05-01</td>\n",
       "      <td>2009-08-01</td>\n",
       "    </tr>\n",
       "    <tr>\n",
       "      <th>12</th>\n",
       "      <td>2311253.0</td>\n",
       "      <td>Stoker</td>\n",
       "      <td>Steve</td>\n",
       "      <td>23188177.0</td>\n",
       "      <td>American Jewish University</td>\n",
       "      <td>Student Librarian</td>\n",
       "      <td>Assisted patrons with locating and checking it...</td>\n",
       "      <td>2006-09-01</td>\n",
       "      <td>2008-12-01</td>\n",
       "    </tr>\n",
       "    <tr>\n",
       "      <th>13</th>\n",
       "      <td>2308949.0</td>\n",
       "      <td>Mitchum Leeper</td>\n",
       "      <td>Kate</td>\n",
       "      <td>23159421.0</td>\n",
       "      <td>Lilja Inc.</td>\n",
       "      <td>PR Associate</td>\n",
       "      <td>Managed client relationships with Barnes &amp; Nob...</td>\n",
       "      <td>2003-10-01</td>\n",
       "      <td>2004-04-01</td>\n",
       "    </tr>\n",
       "    <tr>\n",
       "      <th>14</th>\n",
       "      <td>2308949.0</td>\n",
       "      <td>Mitchum Leeper</td>\n",
       "      <td>Kate</td>\n",
       "      <td>23159422.0</td>\n",
       "      <td>Linn PR</td>\n",
       "      <td>PR Associate</td>\n",
       "      <td>Media Relations for Video Games</td>\n",
       "      <td>2000-01-01</td>\n",
       "      <td>2002-01-01</td>\n",
       "    </tr>\n",
       "    <tr>\n",
       "      <th>15</th>\n",
       "      <td>2307615.0</td>\n",
       "      <td>Harton</td>\n",
       "      <td>Sebastien</td>\n",
       "      <td>23162130.0</td>\n",
       "      <td>Cinegroupe</td>\n",
       "      <td>Senior 3D Animator</td>\n",
       "      <td>- Animation of main characters for the TV seri...</td>\n",
       "      <td>2004-01-01</td>\n",
       "      <td>2005-01-01</td>\n",
       "    </tr>\n",
       "    <tr>\n",
       "      <th>16</th>\n",
       "      <td>2307615.0</td>\n",
       "      <td>Harton</td>\n",
       "      <td>Sebastien</td>\n",
       "      <td>23162131.0</td>\n",
       "      <td>Ubisoft</td>\n",
       "      <td>Senior 3D Animator</td>\n",
       "      <td>- Animation of the main character for the game...</td>\n",
       "      <td>2003-01-01</td>\n",
       "      <td>2004-01-01</td>\n",
       "    </tr>\n",
       "    <tr>\n",
       "      <th>17</th>\n",
       "      <td>2307615.0</td>\n",
       "      <td>Harton</td>\n",
       "      <td>Sebastien</td>\n",
       "      <td>23162132.0</td>\n",
       "      <td>Dream Mechanics</td>\n",
       "      <td>Senior 3D Animator</td>\n",
       "      <td>- Animation of the main character for the 3D g...</td>\n",
       "      <td>2002-01-01</td>\n",
       "      <td>2003-01-01</td>\n",
       "    </tr>\n",
       "    <tr>\n",
       "      <th>18</th>\n",
       "      <td>2307615.0</td>\n",
       "      <td>Harton</td>\n",
       "      <td>Sebastien</td>\n",
       "      <td>23162133.0</td>\n",
       "      <td>NAD Centre</td>\n",
       "      <td>3D Animation Teacher</td>\n",
       "      <td>- Teaching animation in 3D Studio Max &amp; Charac...</td>\n",
       "      <td>2000-01-01</td>\n",
       "      <td>2003-01-01</td>\n",
       "    </tr>\n",
       "    <tr>\n",
       "      <th>19</th>\n",
       "      <td>2307615.0</td>\n",
       "      <td>Harton</td>\n",
       "      <td>Sebastien</td>\n",
       "      <td>23162134.0</td>\n",
       "      <td>Crack College</td>\n",
       "      <td>3D Animation Teacher</td>\n",
       "      <td>- Teach character animation and optimal low po...</td>\n",
       "      <td>2002-01-01</td>\n",
       "      <td>2002-01-01</td>\n",
       "    </tr>\n",
       "    <tr>\n",
       "      <th>20</th>\n",
       "      <td>2307615.0</td>\n",
       "      <td>Harton</td>\n",
       "      <td>Sebastien</td>\n",
       "      <td>23162135.0</td>\n",
       "      <td>Cinegroupe</td>\n",
       "      <td>3D Animator</td>\n",
       "      <td>- Setup, vertex assignment &amp; animation of diff...</td>\n",
       "      <td>2001-01-01</td>\n",
       "      <td>2002-01-01</td>\n",
       "    </tr>\n",
       "    <tr>\n",
       "      <th>21</th>\n",
       "      <td>2307615.0</td>\n",
       "      <td>Harton</td>\n",
       "      <td>Sebastien</td>\n",
       "      <td>23162136.0</td>\n",
       "      <td>Neurovolt Studio</td>\n",
       "      <td>3D Animator</td>\n",
       "      <td>- design &amp; creation of the animations\\n\\nin th...</td>\n",
       "      <td>1999-01-01</td>\n",
       "      <td>2001-01-01</td>\n",
       "    </tr>\n",
       "    <tr>\n",
       "      <th>22</th>\n",
       "      <td>2307615.0</td>\n",
       "      <td>Harton</td>\n",
       "      <td>Sebastien</td>\n",
       "      <td>23162137.0</td>\n",
       "      <td>Zak Technologies</td>\n",
       "      <td>3D Animator</td>\n",
       "      <td>- animation and modeling</td>\n",
       "      <td>1999-01-01</td>\n",
       "      <td>1999-01-01</td>\n",
       "    </tr>\n",
       "    <tr>\n",
       "      <th>23</th>\n",
       "      <td>2306966.0</td>\n",
       "      <td>Lee</td>\n",
       "      <td>Bang</td>\n",
       "      <td>23134930.0</td>\n",
       "      <td>Highmoon Studios-Activision</td>\n",
       "      <td>Senior Animator</td>\n",
       "      <td>-Transformers \" Fall of Cybertron\"\\n\\n\\n\\n-Tra...</td>\n",
       "      <td>2010-11-01</td>\n",
       "      <td>2012-01-01</td>\n",
       "    </tr>\n",
       "    <tr>\n",
       "      <th>24</th>\n",
       "      <td>2306966.0</td>\n",
       "      <td>Lee</td>\n",
       "      <td>Bang</td>\n",
       "      <td>23134931.0</td>\n",
       "      <td>NAMCO/BANDAI GAMES</td>\n",
       "      <td>Lead Animator</td>\n",
       "      <td>-SPLATTERHOUSE\\n\\n Extremely gory and bloody f...</td>\n",
       "      <td>2009-01-01</td>\n",
       "      <td>2010-11-01</td>\n",
       "    </tr>\n",
       "    <tr>\n",
       "      <th>25</th>\n",
       "      <td>2306966.0</td>\n",
       "      <td>Lee</td>\n",
       "      <td>Bang</td>\n",
       "      <td>23134932.0</td>\n",
       "      <td>BOTTLEROCKET entertainment inc</td>\n",
       "      <td>Lead Animator</td>\n",
       "      <td>Managed the animation team and created combat ...</td>\n",
       "      <td>2003-02-01</td>\n",
       "      <td>2008-12-01</td>\n",
       "    </tr>\n",
       "    <tr>\n",
       "      <th>26</th>\n",
       "      <td>2306966.0</td>\n",
       "      <td>Lee</td>\n",
       "      <td>Bang</td>\n",
       "      <td>23134933.0</td>\n",
       "      <td>THE COLLECTIVE inc</td>\n",
       "      <td>Senior Animator</td>\n",
       "      <td>-Dirty Harry(canceled) xbox360,ps3\\n\\n  3rd pe...</td>\n",
       "      <td>2006-06-01</td>\n",
       "      <td>2006-08-01</td>\n",
       "    </tr>\n",
       "    <tr>\n",
       "      <th>27</th>\n",
       "      <td>2306966.0</td>\n",
       "      <td>Lee</td>\n",
       "      <td>Bang</td>\n",
       "      <td>23134934.0</td>\n",
       "      <td>DreamWorks Animation</td>\n",
       "      <td>Animator</td>\n",
       "      <td>-\"SINBAD\" Legend of the seven sea\\n\\nAnimator ...</td>\n",
       "      <td>1996-03-01</td>\n",
       "      <td>2003-07-01</td>\n",
       "    </tr>\n",
       "    <tr>\n",
       "      <th>28</th>\n",
       "      <td>2306966.0</td>\n",
       "      <td>Lee</td>\n",
       "      <td>Bang</td>\n",
       "      <td>23134935.0</td>\n",
       "      <td>TOON US</td>\n",
       "      <td>Layout Artist</td>\n",
       "      <td>-KING OF THE HILL(Fox Broadcasting co.)\\n\\nFOX...</td>\n",
       "      <td>1995-01-01</td>\n",
       "      <td>1996-01-01</td>\n",
       "    </tr>\n",
       "    <tr>\n",
       "      <th>29</th>\n",
       "      <td>2305689.0</td>\n",
       "      <td>Majda</td>\n",
       "      <td>Primus</td>\n",
       "      <td>23120816.0</td>\n",
       "      <td>PulsePoint Communications</td>\n",
       "      <td>Software Engineering Technician</td>\n",
       "      <td>NaN</td>\n",
       "      <td>1999-07-01</td>\n",
       "      <td>2001-04-01</td>\n",
       "    </tr>\n",
       "    <tr>\n",
       "      <th>...</th>\n",
       "      <td>...</td>\n",
       "      <td>...</td>\n",
       "      <td>...</td>\n",
       "      <td>...</td>\n",
       "      <td>...</td>\n",
       "      <td>...</td>\n",
       "      <td>...</td>\n",
       "      <td>...</td>\n",
       "      <td>...</td>\n",
       "    </tr>\n",
       "    <tr>\n",
       "      <th>808</th>\n",
       "      <td>1948973.0</td>\n",
       "      <td>Miles</td>\n",
       "      <td>Stewart</td>\n",
       "      <td>21668732.0</td>\n",
       "      <td>Pandemic Studios</td>\n",
       "      <td>Programmer</td>\n",
       "      <td>Games\\n\\nStarWars Battlefront\\n\\nStarWars Batt...</td>\n",
       "      <td>2003-06-01</td>\n",
       "      <td>2005-08-01</td>\n",
       "    </tr>\n",
       "    <tr>\n",
       "      <th>809</th>\n",
       "      <td>1948973.0</td>\n",
       "      <td>Miles</td>\n",
       "      <td>Stewart</td>\n",
       "      <td>21668733.0</td>\n",
       "      <td>Criterion Software</td>\n",
       "      <td>Audio Software Engineer</td>\n",
       "      <td>Games\\n\\nAirblade\\n\\nBurnout\\n\\nBurnout2</td>\n",
       "      <td>2000-12-01</td>\n",
       "      <td>2003-05-01</td>\n",
       "    </tr>\n",
       "    <tr>\n",
       "      <th>810</th>\n",
       "      <td>1948973.0</td>\n",
       "      <td>Miles</td>\n",
       "      <td>Stewart</td>\n",
       "      <td>21668734.0</td>\n",
       "      <td>Imagination Technologies</td>\n",
       "      <td>Application Specific Integrated Circuits (ASIC...</td>\n",
       "      <td>Worked in the PowerVR division on the followin...</td>\n",
       "      <td>2000-07-01</td>\n",
       "      <td>2000-11-01</td>\n",
       "    </tr>\n",
       "    <tr>\n",
       "      <th>811</th>\n",
       "      <td>1948973.0</td>\n",
       "      <td>Miles</td>\n",
       "      <td>Stewart</td>\n",
       "      <td>21668735.0</td>\n",
       "      <td>Objective Computing</td>\n",
       "      <td>Database Programmer</td>\n",
       "      <td>Worked on various custom database applications</td>\n",
       "      <td>1999-03-01</td>\n",
       "      <td>1999-12-01</td>\n",
       "    </tr>\n",
       "    <tr>\n",
       "      <th>812</th>\n",
       "      <td>1948973.0</td>\n",
       "      <td>Miles</td>\n",
       "      <td>Stewart</td>\n",
       "      <td>21668736.0</td>\n",
       "      <td>PCI Unipack</td>\n",
       "      <td>IS Assistant</td>\n",
       "      <td>Information systems administration &amp; asset tra...</td>\n",
       "      <td>1998-07-01</td>\n",
       "      <td>1998-09-01</td>\n",
       "    </tr>\n",
       "    <tr>\n",
       "      <th>813</th>\n",
       "      <td>1948902.0</td>\n",
       "      <td>Stringer</td>\n",
       "      <td>Matthew</td>\n",
       "      <td>22646224.0</td>\n",
       "      <td>UCLA Health</td>\n",
       "      <td>Web Marketing Specialist</td>\n",
       "      <td>Part of a team that managed UCLA Health's webs...</td>\n",
       "      <td>2014-06-01</td>\n",
       "      <td>2014-10-01</td>\n",
       "    </tr>\n",
       "    <tr>\n",
       "      <th>814</th>\n",
       "      <td>1948902.0</td>\n",
       "      <td>Stringer</td>\n",
       "      <td>Matthew</td>\n",
       "      <td>22646225.0</td>\n",
       "      <td>City of Hope</td>\n",
       "      <td>Systems Analyst - ECM</td>\n",
       "      <td>Gathered requirements from the web marketing t...</td>\n",
       "      <td>2013-04-01</td>\n",
       "      <td>2014-06-01</td>\n",
       "    </tr>\n",
       "    <tr>\n",
       "      <th>815</th>\n",
       "      <td>1948902.0</td>\n",
       "      <td>Stringer</td>\n",
       "      <td>Matthew</td>\n",
       "      <td>22646226.0</td>\n",
       "      <td>City of Hope</td>\n",
       "      <td>Web Marketing Specialist/Producer</td>\n",
       "      <td>Helped manage and maintain City of Hope's web ...</td>\n",
       "      <td>2010-05-01</td>\n",
       "      <td>2013-04-01</td>\n",
       "    </tr>\n",
       "    <tr>\n",
       "      <th>816</th>\n",
       "      <td>1948902.0</td>\n",
       "      <td>Stringer</td>\n",
       "      <td>Matthew</td>\n",
       "      <td>22646227.0</td>\n",
       "      <td>Fred Hutchinson Cancer Research Center</td>\n",
       "      <td>Video Intern</td>\n",
       "      <td>As a video intern working with the institution...</td>\n",
       "      <td>2009-07-01</td>\n",
       "      <td>2009-12-01</td>\n",
       "    </tr>\n",
       "    <tr>\n",
       "      <th>817</th>\n",
       "      <td>1948902.0</td>\n",
       "      <td>Stringer</td>\n",
       "      <td>Matthew</td>\n",
       "      <td>22646228.0</td>\n",
       "      <td>University of Washington</td>\n",
       "      <td>Intern</td>\n",
       "      <td>While in grad school, produced video for the a...</td>\n",
       "      <td>2008-10-01</td>\n",
       "      <td>2009-06-01</td>\n",
       "    </tr>\n",
       "    <tr>\n",
       "      <th>818</th>\n",
       "      <td>1948902.0</td>\n",
       "      <td>Stringer</td>\n",
       "      <td>Matthew</td>\n",
       "      <td>22646229.0</td>\n",
       "      <td>Rhythm &amp; Hues</td>\n",
       "      <td>Render I/O Coordinator</td>\n",
       "      <td>Queued and monitored overnight renders of anim...</td>\n",
       "      <td>2008-01-01</td>\n",
       "      <td>2008-08-01</td>\n",
       "    </tr>\n",
       "    <tr>\n",
       "      <th>819</th>\n",
       "      <td>1948902.0</td>\n",
       "      <td>Stringer</td>\n",
       "      <td>Matthew</td>\n",
       "      <td>22646230.0</td>\n",
       "      <td>Tandberg Television</td>\n",
       "      <td>Event Operator / Master Control Operator</td>\n",
       "      <td>Executed interactive television events for the...</td>\n",
       "      <td>2005-09-01</td>\n",
       "      <td>2007-12-01</td>\n",
       "    </tr>\n",
       "    <tr>\n",
       "      <th>820</th>\n",
       "      <td>1948902.0</td>\n",
       "      <td>Stringer</td>\n",
       "      <td>Matthew</td>\n",
       "      <td>22646231.0</td>\n",
       "      <td>Buena Vista Games</td>\n",
       "      <td>Undergraduate Associate</td>\n",
       "      <td>Alongside fellow interns in the first BVG Thin...</td>\n",
       "      <td>2004-06-01</td>\n",
       "      <td>2004-08-01</td>\n",
       "    </tr>\n",
       "    <tr>\n",
       "      <th>821</th>\n",
       "      <td>1940623.0</td>\n",
       "      <td>Chan</td>\n",
       "      <td>Serene</td>\n",
       "      <td>20179441.0</td>\n",
       "      <td>TBWA Chiat/Day</td>\n",
       "      <td>Account Group Assistant</td>\n",
       "      <td>NaN</td>\n",
       "      <td>1997-08-01</td>\n",
       "      <td>1998-07-01</td>\n",
       "    </tr>\n",
       "    <tr>\n",
       "      <th>822</th>\n",
       "      <td>1936955.0</td>\n",
       "      <td>Covington</td>\n",
       "      <td>Nicholas</td>\n",
       "      <td>22102179.0</td>\n",
       "      <td>Budcat Creations</td>\n",
       "      <td>3D Artist</td>\n",
       "      <td>Worked mostly on the Guitar Hero Franchise. Do...</td>\n",
       "      <td>2007-12-01</td>\n",
       "      <td>2008-06-01</td>\n",
       "    </tr>\n",
       "    <tr>\n",
       "      <th>823</th>\n",
       "      <td>1936955.0</td>\n",
       "      <td>Covington</td>\n",
       "      <td>Nicholas</td>\n",
       "      <td>22102180.0</td>\n",
       "      <td>Art Institute</td>\n",
       "      <td>Audio Video Technician</td>\n",
       "      <td>Managed inventory of cameras, video and lighti...</td>\n",
       "      <td>2006-10-01</td>\n",
       "      <td>2007-09-01</td>\n",
       "    </tr>\n",
       "    <tr>\n",
       "      <th>824</th>\n",
       "      <td>1936955.0</td>\n",
       "      <td>Covington</td>\n",
       "      <td>Nicholas</td>\n",
       "      <td>22102181.0</td>\n",
       "      <td>The Art Institute of San Diego</td>\n",
       "      <td>Student</td>\n",
       "      <td>NaN</td>\n",
       "      <td>2004-01-01</td>\n",
       "      <td>2007-01-01</td>\n",
       "    </tr>\n",
       "    <tr>\n",
       "      <th>825</th>\n",
       "      <td>1934318.0</td>\n",
       "      <td>Sargent</td>\n",
       "      <td>Cody</td>\n",
       "      <td>22674855.0</td>\n",
       "      <td>ArenaNet</td>\n",
       "      <td>Technical Artist</td>\n",
       "      <td>I work on anything and everything technical th...</td>\n",
       "      <td>2010-04-01</td>\n",
       "      <td>2013-08-01</td>\n",
       "    </tr>\n",
       "    <tr>\n",
       "      <th>826</th>\n",
       "      <td>1934318.0</td>\n",
       "      <td>Sargent</td>\n",
       "      <td>Cody</td>\n",
       "      <td>22674856.0</td>\n",
       "      <td>International Academy of Design and Technology</td>\n",
       "      <td>Adjunct Professor</td>\n",
       "      <td>- I helped when they needed to quickly find so...</td>\n",
       "      <td>2011-01-01</td>\n",
       "      <td>2012-01-01</td>\n",
       "    </tr>\n",
       "    <tr>\n",
       "      <th>827</th>\n",
       "      <td>1934318.0</td>\n",
       "      <td>Sargent</td>\n",
       "      <td>Cody</td>\n",
       "      <td>22674857.0</td>\n",
       "      <td>ArenaNet</td>\n",
       "      <td>Technical Art Intern</td>\n",
       "      <td>Technical Artist specializing in scripting and...</td>\n",
       "      <td>2010-01-01</td>\n",
       "      <td>2010-04-01</td>\n",
       "    </tr>\n",
       "    <tr>\n",
       "      <th>828</th>\n",
       "      <td>1934318.0</td>\n",
       "      <td>Sargent</td>\n",
       "      <td>Cody</td>\n",
       "      <td>22674858.0</td>\n",
       "      <td>Tridel Games</td>\n",
       "      <td>Character Modeler and Technical Artist</td>\n",
       "      <td>NaN</td>\n",
       "      <td>2008-07-01</td>\n",
       "      <td>2008-11-01</td>\n",
       "    </tr>\n",
       "    <tr>\n",
       "      <th>829</th>\n",
       "      <td>1934318.0</td>\n",
       "      <td>Sargent</td>\n",
       "      <td>Cody</td>\n",
       "      <td>22674859.0</td>\n",
       "      <td>AiPD</td>\n",
       "      <td>Modeler</td>\n",
       "      <td>- Animated Short Film\\n- Roles:\\n- Alien Chara...</td>\n",
       "      <td>2008-06-01</td>\n",
       "      <td>2008-09-01</td>\n",
       "    </tr>\n",
       "    <tr>\n",
       "      <th>830</th>\n",
       "      <td>1933150.0</td>\n",
       "      <td>Larsen</td>\n",
       "      <td>Chris</td>\n",
       "      <td>22584998.0</td>\n",
       "      <td>Tigar Hare Studios</td>\n",
       "      <td>Cinematic Artist</td>\n",
       "      <td>NaN</td>\n",
       "      <td>2002-08-01</td>\n",
       "      <td>2002-12-01</td>\n",
       "    </tr>\n",
       "    <tr>\n",
       "      <th>831</th>\n",
       "      <td>1933150.0</td>\n",
       "      <td>Larsen</td>\n",
       "      <td>Chris</td>\n",
       "      <td>22584999.0</td>\n",
       "      <td>Electronic Arts</td>\n",
       "      <td>3D Artist</td>\n",
       "      <td>NaN</td>\n",
       "      <td>2001-01-01</td>\n",
       "      <td>2002-01-01</td>\n",
       "    </tr>\n",
       "    <tr>\n",
       "      <th>832</th>\n",
       "      <td>1932686.0</td>\n",
       "      <td>Carnes</td>\n",
       "      <td>Colt</td>\n",
       "      <td>20543797.0</td>\n",
       "      <td>Vivendi Universal Games</td>\n",
       "      <td>QA Functionality Tester</td>\n",
       "      <td>Test functionality of all mechanics. \\n\\nTest ...</td>\n",
       "      <td>2008-07-01</td>\n",
       "      <td>2008-11-01</td>\n",
       "    </tr>\n",
       "    <tr>\n",
       "      <th>833</th>\n",
       "      <td>1932686.0</td>\n",
       "      <td>Carnes</td>\n",
       "      <td>Colt</td>\n",
       "      <td>20543798.0</td>\n",
       "      <td>Liquid Entertainment LLC</td>\n",
       "      <td>Design Intern</td>\n",
       "      <td>As an intern I was given one task, add vocal f...</td>\n",
       "      <td>2008-05-01</td>\n",
       "      <td>2008-07-01</td>\n",
       "    </tr>\n",
       "    <tr>\n",
       "      <th>834</th>\n",
       "      <td>1932686.0</td>\n",
       "      <td>Carnes</td>\n",
       "      <td>Colt</td>\n",
       "      <td>20543799.0</td>\n",
       "      <td>Atlus</td>\n",
       "      <td>QA Tester</td>\n",
       "      <td>Responsibilities included functionality and lo...</td>\n",
       "      <td>2007-11-01</td>\n",
       "      <td>2008-04-01</td>\n",
       "    </tr>\n",
       "    <tr>\n",
       "      <th>835</th>\n",
       "      <td>1932686.0</td>\n",
       "      <td>Carnes</td>\n",
       "      <td>Colt</td>\n",
       "      <td>20543800.0</td>\n",
       "      <td>Westwood College</td>\n",
       "      <td>Work Study</td>\n",
       "      <td>Worked in a nice friendly office of the school...</td>\n",
       "      <td>2006-01-01</td>\n",
       "      <td>2007-11-01</td>\n",
       "    </tr>\n",
       "    <tr>\n",
       "      <th>836</th>\n",
       "      <td>1930928.0</td>\n",
       "      <td>Gottschalk</td>\n",
       "      <td>Eric</td>\n",
       "      <td>23165859.0</td>\n",
       "      <td>Topspin Media</td>\n",
       "      <td>Senior Research Scientist</td>\n",
       "      <td>NaN</td>\n",
       "      <td>2007-11-01</td>\n",
       "      <td>2009-04-01</td>\n",
       "    </tr>\n",
       "    <tr>\n",
       "      <th>837</th>\n",
       "      <td>1930928.0</td>\n",
       "      <td>Gottschalk</td>\n",
       "      <td>Eric</td>\n",
       "      <td>23165860.0</td>\n",
       "      <td>Yahoo!</td>\n",
       "      <td>Senior Research Scientist</td>\n",
       "      <td>NaN</td>\n",
       "      <td>2006-02-01</td>\n",
       "      <td>2007-11-01</td>\n",
       "    </tr>\n",
       "  </tbody>\n",
       "</table>\n",
       "<p>838 rows × 9 columns</p>\n",
       "</div>"
      ],
      "text/plain": [
       "     candidate_id candidate_surname candidate_name  c_employment_id  \\\n",
       "0       2315074.0             Black           Eric       23237978.0   \n",
       "1       2313410.0              Cave         Robert       23216064.0   \n",
       "2       2313410.0              Cave         Robert       23216065.0   \n",
       "3       2313410.0              Cave         Robert       23216066.0   \n",
       "4       2313410.0              Cave         Robert       23216067.0   \n",
       "5       2313410.0              Cave         Robert       23216068.0   \n",
       "6       2311327.0             Walsh         Steven       23189884.0   \n",
       "7       2311253.0            Stoker          Steve       23188172.0   \n",
       "8       2311253.0            Stoker          Steve       23188173.0   \n",
       "9       2311253.0            Stoker          Steve       23188174.0   \n",
       "10      2311253.0            Stoker          Steve       23188175.0   \n",
       "11      2311253.0            Stoker          Steve       23188176.0   \n",
       "12      2311253.0            Stoker          Steve       23188177.0   \n",
       "13      2308949.0    Mitchum Leeper           Kate       23159421.0   \n",
       "14      2308949.0    Mitchum Leeper           Kate       23159422.0   \n",
       "15      2307615.0            Harton      Sebastien       23162130.0   \n",
       "16      2307615.0            Harton      Sebastien       23162131.0   \n",
       "17      2307615.0            Harton      Sebastien       23162132.0   \n",
       "18      2307615.0            Harton      Sebastien       23162133.0   \n",
       "19      2307615.0            Harton      Sebastien       23162134.0   \n",
       "20      2307615.0            Harton      Sebastien       23162135.0   \n",
       "21      2307615.0            Harton      Sebastien       23162136.0   \n",
       "22      2307615.0            Harton      Sebastien       23162137.0   \n",
       "23      2306966.0               Lee           Bang       23134930.0   \n",
       "24      2306966.0               Lee           Bang       23134931.0   \n",
       "25      2306966.0               Lee           Bang       23134932.0   \n",
       "26      2306966.0               Lee           Bang       23134933.0   \n",
       "27      2306966.0               Lee           Bang       23134934.0   \n",
       "28      2306966.0               Lee           Bang       23134935.0   \n",
       "29      2305689.0             Majda         Primus       23120816.0   \n",
       "..            ...               ...            ...              ...   \n",
       "808     1948973.0             Miles        Stewart       21668732.0   \n",
       "809     1948973.0             Miles        Stewart       21668733.0   \n",
       "810     1948973.0             Miles        Stewart       21668734.0   \n",
       "811     1948973.0             Miles        Stewart       21668735.0   \n",
       "812     1948973.0             Miles        Stewart       21668736.0   \n",
       "813     1948902.0          Stringer        Matthew       22646224.0   \n",
       "814     1948902.0          Stringer        Matthew       22646225.0   \n",
       "815     1948902.0          Stringer        Matthew       22646226.0   \n",
       "816     1948902.0          Stringer        Matthew       22646227.0   \n",
       "817     1948902.0          Stringer        Matthew       22646228.0   \n",
       "818     1948902.0          Stringer        Matthew       22646229.0   \n",
       "819     1948902.0          Stringer        Matthew       22646230.0   \n",
       "820     1948902.0          Stringer        Matthew       22646231.0   \n",
       "821     1940623.0              Chan         Serene       20179441.0   \n",
       "822     1936955.0         Covington       Nicholas       22102179.0   \n",
       "823     1936955.0         Covington       Nicholas       22102180.0   \n",
       "824     1936955.0         Covington       Nicholas       22102181.0   \n",
       "825     1934318.0           Sargent           Cody       22674855.0   \n",
       "826     1934318.0           Sargent           Cody       22674856.0   \n",
       "827     1934318.0           Sargent           Cody       22674857.0   \n",
       "828     1934318.0           Sargent           Cody       22674858.0   \n",
       "829     1934318.0           Sargent           Cody       22674859.0   \n",
       "830     1933150.0            Larsen          Chris       22584998.0   \n",
       "831     1933150.0            Larsen          Chris       22584999.0   \n",
       "832     1932686.0            Carnes           Colt       20543797.0   \n",
       "833     1932686.0            Carnes           Colt       20543798.0   \n",
       "834     1932686.0            Carnes           Colt       20543799.0   \n",
       "835     1932686.0            Carnes           Colt       20543800.0   \n",
       "836     1930928.0        Gottschalk           Eric       23165859.0   \n",
       "837     1930928.0        Gottschalk           Eric       23165860.0   \n",
       "\n",
       "                                              employer  \\\n",
       "0                                      4 Front Studios   \n",
       "1                                                Cigna   \n",
       "2                                  JPMorgan Chase & Co   \n",
       "3    Women's Club Volleyball Team, Syracuse University   \n",
       "4                                  JPMorgan Chase & Co   \n",
       "5                                SysTech International   \n",
       "6                    West Allis Community Media Center   \n",
       "7                                           Activision   \n",
       "8                                             2K Games   \n",
       "9                           American Jewish University   \n",
       "10                          American Jewish University   \n",
       "11                                       Ben & Jerry's   \n",
       "12                          American Jewish University   \n",
       "13                                          Lilja Inc.   \n",
       "14                                             Linn PR   \n",
       "15                                          Cinegroupe   \n",
       "16                                             Ubisoft   \n",
       "17                                     Dream Mechanics   \n",
       "18                                          NAD Centre   \n",
       "19                                       Crack College   \n",
       "20                                          Cinegroupe   \n",
       "21                                    Neurovolt Studio   \n",
       "22                                    Zak Technologies   \n",
       "23                         Highmoon Studios-Activision   \n",
       "24                                  NAMCO/BANDAI GAMES   \n",
       "25                      BOTTLEROCKET entertainment inc   \n",
       "26                                  THE COLLECTIVE inc   \n",
       "27                                DreamWorks Animation   \n",
       "28                                             TOON US   \n",
       "29                           PulsePoint Communications   \n",
       "..                                                 ...   \n",
       "808                                   Pandemic Studios   \n",
       "809                                 Criterion Software   \n",
       "810                           Imagination Technologies   \n",
       "811                                Objective Computing   \n",
       "812                                        PCI Unipack   \n",
       "813                                        UCLA Health   \n",
       "814                                       City of Hope   \n",
       "815                                       City of Hope   \n",
       "816             Fred Hutchinson Cancer Research Center   \n",
       "817                           University of Washington   \n",
       "818                                      Rhythm & Hues   \n",
       "819                                Tandberg Television   \n",
       "820                                  Buena Vista Games   \n",
       "821                                     TBWA Chiat/Day   \n",
       "822                                   Budcat Creations   \n",
       "823                                      Art Institute   \n",
       "824                     The Art Institute of San Diego   \n",
       "825                                           ArenaNet   \n",
       "826     International Academy of Design and Technology   \n",
       "827                                           ArenaNet   \n",
       "828                                       Tridel Games   \n",
       "829                                               AiPD   \n",
       "830                                 Tigar Hare Studios   \n",
       "831                                    Electronic Arts   \n",
       "832                            Vivendi Universal Games   \n",
       "833                           Liquid Entertainment LLC   \n",
       "834                                              Atlus   \n",
       "835                                   Westwood College   \n",
       "836                                      Topspin Media   \n",
       "837                                             Yahoo!   \n",
       "\n",
       "                                             job_title  \\\n",
       "0                                               Intern   \n",
       "1               Information Security Senior Specialist   \n",
       "2                            Security Incident Analyst   \n",
       "3                                           Head Coach   \n",
       "4                              Enterprise Access Admin   \n",
       "5                                Technology Specialist   \n",
       "6                                     Graphic Designer   \n",
       "7                             Quality Assurance Tester   \n",
       "8                             Quality Assurance Tester   \n",
       "9                                      Bookstore Clerk   \n",
       "10                                    Resident Advisor   \n",
       "11                                   Assistant Manager   \n",
       "12                                   Student Librarian   \n",
       "13                                        PR Associate   \n",
       "14                                        PR Associate   \n",
       "15                                  Senior 3D Animator   \n",
       "16                                  Senior 3D Animator   \n",
       "17                                  Senior 3D Animator   \n",
       "18                                3D Animation Teacher   \n",
       "19                                3D Animation Teacher   \n",
       "20                                         3D Animator   \n",
       "21                                         3D Animator   \n",
       "22                                         3D Animator   \n",
       "23                                     Senior Animator   \n",
       "24                                       Lead Animator   \n",
       "25                                       Lead Animator   \n",
       "26                                     Senior Animator   \n",
       "27                                            Animator   \n",
       "28                                       Layout Artist   \n",
       "29                     Software Engineering Technician   \n",
       "..                                                 ...   \n",
       "808                                         Programmer   \n",
       "809                            Audio Software Engineer   \n",
       "810  Application Specific Integrated Circuits (ASIC...   \n",
       "811                                Database Programmer   \n",
       "812                                       IS Assistant   \n",
       "813                           Web Marketing Specialist   \n",
       "814                              Systems Analyst - ECM   \n",
       "815                  Web Marketing Specialist/Producer   \n",
       "816                                       Video Intern   \n",
       "817                                             Intern   \n",
       "818                             Render I/O Coordinator   \n",
       "819           Event Operator / Master Control Operator   \n",
       "820                            Undergraduate Associate   \n",
       "821                            Account Group Assistant   \n",
       "822                                          3D Artist   \n",
       "823                             Audio Video Technician   \n",
       "824                                            Student   \n",
       "825                                   Technical Artist   \n",
       "826                                  Adjunct Professor   \n",
       "827                               Technical Art Intern   \n",
       "828             Character Modeler and Technical Artist   \n",
       "829                                            Modeler   \n",
       "830                                   Cinematic Artist   \n",
       "831                                          3D Artist   \n",
       "832                            QA Functionality Tester   \n",
       "833                                      Design Intern   \n",
       "834                                          QA Tester   \n",
       "835                                         Work Study   \n",
       "836                          Senior Research Scientist   \n",
       "837                          Senior Research Scientist   \n",
       "\n",
       "                                        job_title_desc c_employment_job_start  \\\n",
       "0                                                  NaN             2005-01-01   \n",
       "1    Responsible for all incident response and malw...             2012-05-01   \n",
       "2    Part of team responsible for managing/detectin...             2010-02-01   \n",
       "3                                                  NaN             2009-09-01   \n",
       "4    Responsible for administering identity and sec...             2009-06-01   \n",
       "5    Tested, developed and introduced automated inv...             2008-05-01   \n",
       "6    - Designed community slides for station\\n\\n\\n\\...             2004-09-01   \n",
       "7    Worked in multiple labs, supporting diverse te...             2011-08-01   \n",
       "8    Wrote up a high volume of functionality bugs f...             2010-06-01   \n",
       "9    Provided customer service for a wide variety o...             2010-01-01   \n",
       "10   Designed a wide variety of programs for upward...             2009-01-01   \n",
       "11   Originally started as a regular employee, was ...             2007-05-01   \n",
       "12   Assisted patrons with locating and checking it...             2006-09-01   \n",
       "13   Managed client relationships with Barnes & Nob...             2003-10-01   \n",
       "14                     Media Relations for Video Games             2000-01-01   \n",
       "15   - Animation of main characters for the TV seri...             2004-01-01   \n",
       "16   - Animation of the main character for the game...             2003-01-01   \n",
       "17   - Animation of the main character for the 3D g...             2002-01-01   \n",
       "18   - Teaching animation in 3D Studio Max & Charac...             2000-01-01   \n",
       "19   - Teach character animation and optimal low po...             2002-01-01   \n",
       "20   - Setup, vertex assignment & animation of diff...             2001-01-01   \n",
       "21   - design & creation of the animations\\n\\nin th...             1999-01-01   \n",
       "22                            - animation and modeling             1999-01-01   \n",
       "23   -Transformers \" Fall of Cybertron\"\\n\\n\\n\\n-Tra...             2010-11-01   \n",
       "24   -SPLATTERHOUSE\\n\\n Extremely gory and bloody f...             2009-01-01   \n",
       "25   Managed the animation team and created combat ...             2003-02-01   \n",
       "26   -Dirty Harry(canceled) xbox360,ps3\\n\\n  3rd pe...             2006-06-01   \n",
       "27   -\"SINBAD\" Legend of the seven sea\\n\\nAnimator ...             1996-03-01   \n",
       "28   -KING OF THE HILL(Fox Broadcasting co.)\\n\\nFOX...             1995-01-01   \n",
       "29                                                 NaN             1999-07-01   \n",
       "..                                                 ...                    ...   \n",
       "808  Games\\n\\nStarWars Battlefront\\n\\nStarWars Batt...             2003-06-01   \n",
       "809           Games\\n\\nAirblade\\n\\nBurnout\\n\\nBurnout2             2000-12-01   \n",
       "810  Worked in the PowerVR division on the followin...             2000-07-01   \n",
       "811     Worked on various custom database applications             1999-03-01   \n",
       "812  Information systems administration & asset tra...             1998-07-01   \n",
       "813  Part of a team that managed UCLA Health's webs...             2014-06-01   \n",
       "814  Gathered requirements from the web marketing t...             2013-04-01   \n",
       "815  Helped manage and maintain City of Hope's web ...             2010-05-01   \n",
       "816  As a video intern working with the institution...             2009-07-01   \n",
       "817  While in grad school, produced video for the a...             2008-10-01   \n",
       "818  Queued and monitored overnight renders of anim...             2008-01-01   \n",
       "819  Executed interactive television events for the...             2005-09-01   \n",
       "820  Alongside fellow interns in the first BVG Thin...             2004-06-01   \n",
       "821                                                NaN             1997-08-01   \n",
       "822  Worked mostly on the Guitar Hero Franchise. Do...             2007-12-01   \n",
       "823  Managed inventory of cameras, video and lighti...             2006-10-01   \n",
       "824                                                NaN             2004-01-01   \n",
       "825  I work on anything and everything technical th...             2010-04-01   \n",
       "826  - I helped when they needed to quickly find so...             2011-01-01   \n",
       "827  Technical Artist specializing in scripting and...             2010-01-01   \n",
       "828                                                NaN             2008-07-01   \n",
       "829  - Animated Short Film\\n- Roles:\\n- Alien Chara...             2008-06-01   \n",
       "830                                                NaN             2002-08-01   \n",
       "831                                                NaN             2001-01-01   \n",
       "832  Test functionality of all mechanics. \\n\\nTest ...             2008-07-01   \n",
       "833  As an intern I was given one task, add vocal f...             2008-05-01   \n",
       "834  Responsibilities included functionality and lo...             2007-11-01   \n",
       "835  Worked in a nice friendly office of the school...             2006-01-01   \n",
       "836                                                NaN             2007-11-01   \n",
       "837                                                NaN             2006-02-01   \n",
       "\n",
       "    c_employment_job_end  \n",
       "0             2006-01-01  \n",
       "1             2014-06-01  \n",
       "2             2012-04-01  \n",
       "3             2012-04-01  \n",
       "4             2010-02-01  \n",
       "5             2008-08-01  \n",
       "6             2005-12-01  \n",
       "7             2012-10-01  \n",
       "8             2011-06-01  \n",
       "9             2010-05-01  \n",
       "10            2009-12-01  \n",
       "11            2009-08-01  \n",
       "12            2008-12-01  \n",
       "13            2004-04-01  \n",
       "14            2002-01-01  \n",
       "15            2005-01-01  \n",
       "16            2004-01-01  \n",
       "17            2003-01-01  \n",
       "18            2003-01-01  \n",
       "19            2002-01-01  \n",
       "20            2002-01-01  \n",
       "21            2001-01-01  \n",
       "22            1999-01-01  \n",
       "23            2012-01-01  \n",
       "24            2010-11-01  \n",
       "25            2008-12-01  \n",
       "26            2006-08-01  \n",
       "27            2003-07-01  \n",
       "28            1996-01-01  \n",
       "29            2001-04-01  \n",
       "..                   ...  \n",
       "808           2005-08-01  \n",
       "809           2003-05-01  \n",
       "810           2000-11-01  \n",
       "811           1999-12-01  \n",
       "812           1998-09-01  \n",
       "813           2014-10-01  \n",
       "814           2014-06-01  \n",
       "815           2013-04-01  \n",
       "816           2009-12-01  \n",
       "817           2009-06-01  \n",
       "818           2008-08-01  \n",
       "819           2007-12-01  \n",
       "820           2004-08-01  \n",
       "821           1998-07-01  \n",
       "822           2008-06-01  \n",
       "823           2007-09-01  \n",
       "824           2007-01-01  \n",
       "825           2013-08-01  \n",
       "826           2012-01-01  \n",
       "827           2010-04-01  \n",
       "828           2008-11-01  \n",
       "829           2008-09-01  \n",
       "830           2002-12-01  \n",
       "831           2002-01-01  \n",
       "832           2008-11-01  \n",
       "833           2008-07-01  \n",
       "834           2008-04-01  \n",
       "835           2007-11-01  \n",
       "836           2009-04-01  \n",
       "837           2007-11-01  \n",
       "\n",
       "[838 rows x 9 columns]"
      ]
     },
     "execution_count": 312,
     "metadata": {},
     "output_type": "execute_result"
    }
   ],
   "source": [
    "jh_data2"
   ]
  },
  {
   "cell_type": "code",
   "execution_count": 316,
   "metadata": {
    "collapsed": false
   },
   "outputs": [],
   "source": [
    "# Test\n",
    "# jh_data2[jh_data2.candidate_id == 2313410]"
   ]
  },
  {
   "cell_type": "code",
   "execution_count": 318,
   "metadata": {
    "collapsed": false
   },
   "outputs": [
    {
     "data": {
      "text/html": [
       "<div>\n",
       "<table border=\"1\" class=\"dataframe\">\n",
       "  <thead>\n",
       "    <tr style=\"text-align: right;\">\n",
       "      <th></th>\n",
       "      <th>employer</th>\n",
       "    </tr>\n",
       "    <tr>\n",
       "      <th>candidate_id</th>\n",
       "      <th></th>\n",
       "    </tr>\n",
       "  </thead>\n",
       "  <tbody>\n",
       "    <tr>\n",
       "      <th>1930928.0</th>\n",
       "      <td>2</td>\n",
       "    </tr>\n",
       "    <tr>\n",
       "      <th>1932686.0</th>\n",
       "      <td>4</td>\n",
       "    </tr>\n",
       "    <tr>\n",
       "      <th>1933150.0</th>\n",
       "      <td>2</td>\n",
       "    </tr>\n",
       "    <tr>\n",
       "      <th>1934318.0</th>\n",
       "      <td>5</td>\n",
       "    </tr>\n",
       "    <tr>\n",
       "      <th>1936955.0</th>\n",
       "      <td>3</td>\n",
       "    </tr>\n",
       "  </tbody>\n",
       "</table>\n",
       "</div>"
      ],
      "text/plain": [
       "              employer\n",
       "candidate_id          \n",
       "1930928.0            2\n",
       "1932686.0            4\n",
       "1933150.0            2\n",
       "1934318.0            5\n",
       "1936955.0            3"
      ]
     },
     "execution_count": 318,
     "metadata": {},
     "output_type": "execute_result"
    }
   ],
   "source": [
    "jh_data = pd.DataFrame(jh_data2.groupby('candidate_id').count()['employer'])\n",
    "jh_data.head(5)"
   ]
  },
  {
   "cell_type": "code",
   "execution_count": 319,
   "metadata": {
    "collapsed": false,
    "scrolled": true
   },
   "outputs": [
    {
     "data": {
      "text/plain": [
       "{'job_hopings': 3.5508474576271185,\n",
       " 'working_exp': 2.288256227758007,\n",
       " 'working_time': 14.0,\n",
       " 'working_time_median': 14.0}"
      ]
     },
     "execution_count": 319,
     "metadata": {},
     "output_type": "execute_result"
    }
   ],
   "source": [
    "stat_data['job_hopings'] = jh_data['employer'].mean()\n",
    "stat_data"
   ]
  },
  {
   "cell_type": "code",
   "execution_count": null,
   "metadata": {
    "collapsed": true
   },
   "outputs": [],
   "source": []
  },
  {
   "cell_type": "markdown",
   "metadata": {},
   "source": [
    "## Seniority trend"
   ]
  },
  {
   "cell_type": "code",
   "execution_count": 24,
   "metadata": {
    "collapsed": false
   },
   "outputs": [],
   "source": [
    "def seniority(data):\n",
    "    def calculate_seniority(employment_job_title):\n",
    "        def checkSeniority (employment_job_title):\n",
    "            lead = [\"LEAD\"]\n",
    "            manager = [\"TECHNICAL ARCHITECT\", \"ARCHITECT\", \"MANAGER\"]\n",
    "            senior_engineer = [\"SENIOR\", \"SR.\", \"RESEARCH\", \"CONSULTANT\"]\n",
    "            senior_manager = [\"SENIOR MANAGER\", \"DIRECTOR\", \"CHIEF\", \"PRINCIPAL\", \"CEO\", \"CIO\"]\n",
    "\n",
    "\n",
    "            for terms in senior_manager:\n",
    "                if employment_job_title.upper().find(terms) != -1:\n",
    "                    return 5\n",
    "            for terms in manager:\n",
    "                if employment_job_title.upper().find(terms) != -1:\n",
    "                    return 4\n",
    "            for terms in lead:\n",
    "                if employment_job_title.upper().find(terms) != -1:\n",
    "                    return 3\n",
    "            for terms in senior_engineer:\n",
    "                if employment_job_title.upper().find(terms) != -1:\n",
    "                    return 2\n",
    "            return -1\n",
    "\n",
    "        seniority = checkSeniority(str(employment_job_title))\n",
    "        if seniority != -1:\n",
    "            return seniority\n",
    "        else:\n",
    "            return 1\n",
    "        \n",
    "    data_seniority = data\n",
    "    data_seniority['seniority'] = data_seniority.job_title.map(calculate_seniority)\n",
    "    \n",
    "    return data_seniority[['candidate_id', 'seniority']]"
   ]
  },
  {
   "cell_type": "code",
   "execution_count": 25,
   "metadata": {
    "collapsed": false
   },
   "outputs": [],
   "source": [
    "seniority_data = seniority(data)\n",
    "\n",
    "# get top 3 \n",
    "top = 3\n",
    "top_n_seniority = seniority_data.groupby('seniority').count().sort_values('candidate_id', ascending=False).head(top).index.tolist()\n",
    "stat_data['seniority'] = top_n_seniority"
   ]
  },
  {
   "cell_type": "code",
   "execution_count": null,
   "metadata": {
    "collapsed": false
   },
   "outputs": [],
   "source": []
  },
  {
   "cell_type": "code",
   "execution_count": 26,
   "metadata": {
    "collapsed": false
   },
   "outputs": [
    {
     "data": {
      "text/plain": [
       "{'job_hopings': 6.252669039145908,\n",
       " 'seniority': [1, 2, 4],\n",
       " 'working_exp': 15.583629893238435,\n",
       " 'working_time': 14.604982206405694}"
      ]
     },
     "execution_count": 26,
     "metadata": {},
     "output_type": "execute_result"
    }
   ],
   "source": [
    "stat_data"
   ]
  },
  {
   "cell_type": "markdown",
   "metadata": {},
   "source": [
    "## Top gender"
   ]
  },
  {
   "cell_type": "code",
   "execution_count": 320,
   "metadata": {
    "collapsed": true
   },
   "outputs": [],
   "source": [
    "def top_gender(data):\n",
    "    return pd.DataFrame(data.groupby('candidate_gender').count()['candidate_id'])"
   ]
  },
  {
   "cell_type": "code",
   "execution_count": 321,
   "metadata": {
    "collapsed": false
   },
   "outputs": [
    {
     "data": {
      "text/html": [
       "<div>\n",
       "<table border=\"1\" class=\"dataframe\">\n",
       "  <thead>\n",
       "    <tr style=\"text-align: right;\">\n",
       "      <th></th>\n",
       "      <th>candidate_id</th>\n",
       "    </tr>\n",
       "    <tr>\n",
       "      <th>candidate_gender</th>\n",
       "      <th></th>\n",
       "    </tr>\n",
       "  </thead>\n",
       "  <tbody>\n",
       "    <tr>\n",
       "      <th>Female</th>\n",
       "      <td>40</td>\n",
       "    </tr>\n",
       "    <tr>\n",
       "      <th>Male</th>\n",
       "      <td>249</td>\n",
       "    </tr>\n",
       "    <tr>\n",
       "      <th>Unknown</th>\n",
       "      <td>1</td>\n",
       "    </tr>\n",
       "  </tbody>\n",
       "</table>\n",
       "</div>"
      ],
      "text/plain": [
       "                  candidate_id\n",
       "candidate_gender              \n",
       "Female                      40\n",
       "Male                       249\n",
       "Unknown                      1"
      ]
     },
     "execution_count": 321,
     "metadata": {},
     "output_type": "execute_result"
    }
   ],
   "source": [
    "gender_top = top_gender(general_info)\n",
    "gender_top"
   ]
  },
  {
   "cell_type": "code",
   "execution_count": 322,
   "metadata": {
    "collapsed": false
   },
   "outputs": [
    {
     "data": {
      "text/plain": [
       "<matplotlib.axes._subplots.AxesSubplot at 0x11288a58>"
      ]
     },
     "execution_count": 322,
     "metadata": {},
     "output_type": "execute_result"
    },
    {
     "data": {
      "image/png": "[encoded data removed]",
      "text/plain": [
       "<matplotlib.figure.Figure at 0x468ce80>"
      ]
     },
     "metadata": {},
     "output_type": "display_data"
    }
   ],
   "source": [
    "candidate_gender = pd.Series(gender_top.candidate_id, index=['Female', 'Male', 'Unknown'], name='Gender in Company')\n",
    "plt.rcParams['patch.edgecolor'] = 'white' \n",
    "candidate_gender.plot.pie(figsize=(6, 6), colors=['lightskyblue', 'peru', 'skyblue'], autopct='%.2f%%')"
   ]
  },
  {
   "cell_type": "code",
   "execution_count": 323,
   "metadata": {
    "collapsed": false
   },
   "outputs": [],
   "source": [
    "stat_data['female_percent'] = float(gender_top.iloc[0] / sum(gender_top))"
   ]
  },
  {
   "cell_type": "code",
   "execution_count": 324,
   "metadata": {
    "collapsed": false
   },
   "outputs": [
    {
     "data": {
      "text/plain": [
       "{'female_percent': 0.13793103448275862,\n",
       " 'job_hopings': 3.5508474576271185,\n",
       " 'working_exp': 2.288256227758007,\n",
       " 'working_time': 14.0,\n",
       " 'working_time_median': 14.0}"
      ]
     },
     "execution_count": 324,
     "metadata": {},
     "output_type": "execute_result"
    }
   ],
   "source": [
    "stat_data"
   ]
  },
  {
   "cell_type": "markdown",
   "metadata": {},
   "source": [
    "## Skill"
   ]
  },
  {
   "cell_type": "code",
   "execution_count": 325,
   "metadata": {
    "collapsed": false
   },
   "outputs": [
    {
     "data": {
      "text/plain": [
       "<matplotlib.axes._subplots.AxesSubplot at 0x111b74e0>"
      ]
     },
     "execution_count": 325,
     "metadata": {},
     "output_type": "execute_result"
    },
    {
     "data": {
      "image/png": "[encoded data removed]",
      "text/plain": [
       "<matplotlib.figure.Figure at 0xc584b38>"
      ]
     },
     "metadata": {},
     "output_type": "display_data"
    }
   ],
   "source": [
    "def skill_stat(data):\n",
    "    data = data.drop_duplicates()\n",
    "    \n",
    "    frequency = data.groupby('skill_name').count().sort_values('candidate_id', ascending=False)\n",
    "    return frequency\n",
    "    \n",
    "stat = skill_stat(skill_info)\n",
    "plot_skills = stat[stat.candidate_id >= 10]\n",
    "plot_skills.plot.bar(figsize=(15,5), color=['blue'])"
   ]
  },
  {
   "cell_type": "code",
   "execution_count": 326,
   "metadata": {
    "collapsed": false
   },
   "outputs": [
    {
     "data": {
      "text/plain": [
       "{'female_percent': 0.13793103448275862,\n",
       " 'job_hopings': 3.5508474576271185,\n",
       " 'top_5_skill': ['Video Games',\n",
       "  'Game Development',\n",
       "  'English',\n",
       "  'Management',\n",
       "  'Xbox 360'],\n",
       " 'working_exp': 2.288256227758007,\n",
       " 'working_time': 14.0,\n",
       " 'working_time_median': 14.0}"
      ]
     },
     "execution_count": 326,
     "metadata": {},
     "output_type": "execute_result"
    }
   ],
   "source": [
    "stat_data['top_5_skill'] = stat.head(5).index.tolist()\n",
    "stat_data"
   ]
  },
  {
   "cell_type": "markdown",
   "metadata": {
    "collapsed": false
   },
   "source": [
    "## Top university"
   ]
  },
  {
   "cell_type": "code",
   "execution_count": 327,
   "metadata": {
    "collapsed": false
   },
   "outputs": [],
   "source": [
    "def fetch_top_university():\n",
    "    # Load top university\n",
    "    import requests\n",
    "    url = 'http://www.topuniversities.com/sites/default/files/qs-rankings-data/326584.txt'\n",
    "    r = requests.get(url)\n",
    "    r = r.json()\n",
    "\n",
    "    top_university = []\n",
    "    if r:\n",
    "        for row in r['data']:\n",
    "            top_university.append(row['title'].lower())\n",
    "    return top_university"
   ]
  },
  {
   "cell_type": "code",
   "execution_count": 328,
   "metadata": {
    "collapsed": false,
    "scrolled": true
   },
   "outputs": [
    {
     "data": {
      "text/html": [
       "<div>\n",
       "<table border=\"1\" class=\"dataframe\">\n",
       "  <thead>\n",
       "    <tr style=\"text-align: right;\">\n",
       "      <th></th>\n",
       "      <th>candidate_id</th>\n",
       "    </tr>\n",
       "    <tr>\n",
       "      <th>is_top</th>\n",
       "      <th></th>\n",
       "    </tr>\n",
       "  </thead>\n",
       "  <tbody>\n",
       "    <tr>\n",
       "      <th>0</th>\n",
       "      <td>600</td>\n",
       "    </tr>\n",
       "    <tr>\n",
       "      <th>1</th>\n",
       "      <td>150</td>\n",
       "    </tr>\n",
       "  </tbody>\n",
       "</table>\n",
       "</div>"
      ],
      "text/plain": [
       "        candidate_id\n",
       "is_top              \n",
       "0                600\n",
       "1                150"
      ]
     },
     "execution_count": 328,
     "metadata": {},
     "output_type": "execute_result"
    }
   ],
   "source": [
    "def candidate_top_university(data):\n",
    "    top_university = fetch_top_university()\n",
    "    data['is_top'] = data.school_name.map(lambda x: 1 if str(x).decode('utf-8').lower() in top_university else 0)\n",
    "    return pd.DataFrame(data.groupby('is_top').count()['candidate_id'])\n",
    "\n",
    "candidate_edu = candidate_top_university(edu_info)\n",
    "candidate_edu"
   ]
  },
  {
   "cell_type": "code",
   "execution_count": 329,
   "metadata": {
    "collapsed": false
   },
   "outputs": [
    {
     "data": {
      "text/plain": [
       "{'female_percent': 0.13793103448275862,\n",
       " 'job_hopings': 3.5508474576271185,\n",
       " 'top_5_skill': ['Video Games',\n",
       "  'Game Development',\n",
       "  'English',\n",
       "  'Management',\n",
       "  'Xbox 360'],\n",
       " 'top_university_percent': 0.2,\n",
       " 'working_exp': 2.288256227758007,\n",
       " 'working_time': 14.0,\n",
       " 'working_time_median': 14.0}"
      ]
     },
     "execution_count": 329,
     "metadata": {},
     "output_type": "execute_result"
    }
   ],
   "source": [
    "stat_data['top_university_percent'] = float(candidate_edu.iloc[1] / sum(candidate_edu))\n",
    "stat_data"
   ]
  },
  {
   "cell_type": "markdown",
   "metadata": {},
   "source": []
  },
  {
   "cell_type": "code",
   "execution_count": null,
   "metadata": {
    "collapsed": true
   },
   "outputs": [],
   "source": []
  },
  {
   "cell_type": "markdown",
   "metadata": {
    "collapsed": true
   },
   "source": [
    "## Ethnicity"
   ]
  },
  {
   "cell_type": "code",
   "execution_count": 330,
   "metadata": {
    "collapsed": false
   },
   "outputs": [
    {
     "data": {
      "text/html": [
       "<div>\n",
       "<table border=\"1\" class=\"dataframe\">\n",
       "  <thead>\n",
       "    <tr style=\"text-align: right;\">\n",
       "      <th></th>\n",
       "      <th>candidate_id</th>\n",
       "      <th>candidate_surname</th>\n",
       "      <th>candidate_name</th>\n",
       "      <th>candidate_gender</th>\n",
       "      <th>candidate_degree</th>\n",
       "      <th>ethnicity</th>\n",
       "      <th>c_address_address1</th>\n",
       "      <th>c_address_address2</th>\n",
       "      <th>c_address_country</th>\n",
       "      <th>c_address_region</th>\n",
       "      <th>c_address_longitude</th>\n",
       "      <th>c_address_latitude</th>\n",
       "    </tr>\n",
       "  </thead>\n",
       "  <tbody>\n",
       "    <tr>\n",
       "      <th>0</th>\n",
       "      <td>2315074</td>\n",
       "      <td>Black</td>\n",
       "      <td>Eric</td>\n",
       "      <td>Male</td>\n",
       "      <td>Masters</td>\n",
       "      <td>White/Caucasian</td>\n",
       "      <td>NaN</td>\n",
       "      <td>NaN</td>\n",
       "      <td>US</td>\n",
       "      <td>WA</td>\n",
       "      <td>-122.342528</td>\n",
       "      <td>47.606139</td>\n",
       "    </tr>\n",
       "    <tr>\n",
       "      <th>1</th>\n",
       "      <td>2313410</td>\n",
       "      <td>Cave</td>\n",
       "      <td>Robert</td>\n",
       "      <td>Male</td>\n",
       "      <td>Masters</td>\n",
       "      <td>White/Caucasian</td>\n",
       "      <td>NaN</td>\n",
       "      <td>NaN</td>\n",
       "      <td>US</td>\n",
       "      <td>NaN</td>\n",
       "      <td>-74.005941</td>\n",
       "      <td>40.712784</td>\n",
       "    </tr>\n",
       "    <tr>\n",
       "      <th>2</th>\n",
       "      <td>2311327</td>\n",
       "      <td>Walsh</td>\n",
       "      <td>Steven</td>\n",
       "      <td>Male</td>\n",
       "      <td>NaN</td>\n",
       "      <td>White/Caucasian</td>\n",
       "      <td>NaN</td>\n",
       "      <td>NaN</td>\n",
       "      <td>US</td>\n",
       "      <td>MA</td>\n",
       "      <td>NaN</td>\n",
       "      <td>NaN</td>\n",
       "    </tr>\n",
       "    <tr>\n",
       "      <th>3</th>\n",
       "      <td>2311253</td>\n",
       "      <td>Stoker</td>\n",
       "      <td>Steve</td>\n",
       "      <td>Male</td>\n",
       "      <td>Bachelors</td>\n",
       "      <td>White/Caucasian</td>\n",
       "      <td>Greater Los Angeles Area</td>\n",
       "      <td>NaN</td>\n",
       "      <td>US</td>\n",
       "      <td>CA</td>\n",
       "      <td>NaN</td>\n",
       "      <td>NaN</td>\n",
       "    </tr>\n",
       "    <tr>\n",
       "      <th>4</th>\n",
       "      <td>2308949</td>\n",
       "      <td>Mitchum Leeper</td>\n",
       "      <td>Kate</td>\n",
       "      <td>Female</td>\n",
       "      <td>Masters</td>\n",
       "      <td>White/Caucasian</td>\n",
       "      <td>San Francisco Bay Area</td>\n",
       "      <td>NaN</td>\n",
       "      <td>US</td>\n",
       "      <td>CA</td>\n",
       "      <td>-122.419415</td>\n",
       "      <td>37.774929</td>\n",
       "    </tr>\n",
       "  </tbody>\n",
       "</table>\n",
       "</div>"
      ],
      "text/plain": [
       "   candidate_id candidate_surname candidate_name candidate_gender  \\\n",
       "0       2315074             Black           Eric             Male   \n",
       "1       2313410              Cave         Robert             Male   \n",
       "2       2311327             Walsh         Steven             Male   \n",
       "3       2311253            Stoker          Steve             Male   \n",
       "4       2308949    Mitchum Leeper           Kate           Female   \n",
       "\n",
       "  candidate_degree        ethnicity        c_address_address1  \\\n",
       "0          Masters  White/Caucasian                       NaN   \n",
       "1          Masters  White/Caucasian                       NaN   \n",
       "2              NaN  White/Caucasian                       NaN   \n",
       "3        Bachelors  White/Caucasian  Greater Los Angeles Area   \n",
       "4          Masters  White/Caucasian    San Francisco Bay Area   \n",
       "\n",
       "   c_address_address2 c_address_country c_address_region  c_address_longitude  \\\n",
       "0                 NaN                US               WA          -122.342528   \n",
       "1                 NaN                US              NaN           -74.005941   \n",
       "2                 NaN                US               MA                  NaN   \n",
       "3                 NaN                US               CA                  NaN   \n",
       "4                 NaN                US               CA          -122.419415   \n",
       "\n",
       "   c_address_latitude  \n",
       "0           47.606139  \n",
       "1           40.712784  \n",
       "2                 NaN  \n",
       "3                 NaN  \n",
       "4           37.774929  "
      ]
     },
     "execution_count": 330,
     "metadata": {},
     "output_type": "execute_result"
    }
   ],
   "source": [
    "general_info.head()"
   ]
  },
  {
   "cell_type": "code",
   "execution_count": 371,
   "metadata": {
    "collapsed": false
   },
   "outputs": [
    {
     "data": {
      "image/png": "[encoded data removed]",
      "text/plain": [
       "<matplotlib.figure.Figure at 0x16e75fd0>"
      ]
     },
     "metadata": {},
     "output_type": "display_data"
    }
   ],
   "source": [
    "eth_df = general_info.groupby('ethnicity').count()['candidate_id'].sort_values(ascending=False)\n",
    "ethnicity_plot = eth_df.plot.bar(figsize=(13,8), color=['green'])\n",
    "for p in ethnicity_plot.patches:\n",
    "    ethnicity_plot.annotate(str(p.get_height()), (p.get_x() * 1.025, p.get_height() * 1.005))"
   ]
  },
  {
   "cell_type": "code",
   "execution_count": 373,
   "metadata": {
    "collapsed": false
   },
   "outputs": [
    {
     "data": {
      "text/html": [
       "<div>\n",
       "<table border=\"1\" class=\"dataframe\">\n",
       "  <thead>\n",
       "    <tr style=\"text-align: right;\">\n",
       "      <th></th>\n",
       "      <th>candidate_id</th>\n",
       "    </tr>\n",
       "    <tr>\n",
       "      <th>ethnicity</th>\n",
       "      <th></th>\n",
       "    </tr>\n",
       "  </thead>\n",
       "  <tbody>\n",
       "    <tr>\n",
       "      <th>White/Caucasian</th>\n",
       "      <td>185</td>\n",
       "    </tr>\n",
       "    <tr>\n",
       "      <th>Asian</th>\n",
       "      <td>50</td>\n",
       "    </tr>\n",
       "    <tr>\n",
       "      <th>Unknown</th>\n",
       "      <td>34</td>\n",
       "    </tr>\n",
       "    <tr>\n",
       "      <th>Other/Multiracial</th>\n",
       "      <td>8</td>\n",
       "    </tr>\n",
       "    <tr>\n",
       "      <th>Black/African American</th>\n",
       "      <td>5</td>\n",
       "    </tr>\n",
       "    <tr>\n",
       "      <th>Hispanic/Latino</th>\n",
       "      <td>3</td>\n",
       "    </tr>\n",
       "  </tbody>\n",
       "</table>\n",
       "</div>"
      ],
      "text/plain": [
       "                        candidate_id\n",
       "ethnicity                           \n",
       "White/Caucasian                  185\n",
       "Asian                             50\n",
       "Unknown                           34\n",
       "Other/Multiracial                  8\n",
       "Black/African American             5\n",
       "Hispanic/Latino                    3"
      ]
     },
     "execution_count": 373,
     "metadata": {},
     "output_type": "execute_result"
    }
   ],
   "source": [
    "pd.DataFrame(eth_df)"
   ]
  },
  {
   "cell_type": "code",
   "execution_count": null,
   "metadata": {
    "collapsed": false
   },
   "outputs": [],
   "source": []
  },
  {
   "cell_type": "markdown",
   "metadata": {
    "collapsed": true
   },
   "source": [
    "## gender vs top_shool"
   ]
  },
  {
   "cell_type": "code",
   "execution_count": 421,
   "metadata": {
    "collapsed": false
   },
   "outputs": [],
   "source": [
    "def fetch_top_university():\n",
    "    # Load top university\n",
    "    import requests\n",
    "    url = 'http://www.topuniversities.com/sites/default/files/qs-rankings-data/326584.txt'\n",
    "    r = requests.get(url)\n",
    "    r = r.json()\n",
    "\n",
    "    top_university = []\n",
    "    if r:\n",
    "        for row in r['data']:\n",
    "            top_university.append(row['title'].lower())\n",
    "    return top_university\n",
    "\n",
    "def candidate_top_university(data):\n",
    "    top_university = fetch_top_university()\n",
    "    data['is_top'] = data.school_name.map(lambda x: 1 if str(x).decode('utf-8').lower() in top_university else 0)\n",
    "    return data\n",
    "\n",
    "candidate_top_edu = candidate_top_university(edu_info)"
   ]
  },
  {
   "cell_type": "code",
   "execution_count": 445,
   "metadata": {
    "collapsed": false
   },
   "outputs": [
    {
     "data": {
      "text/html": [
       "<div>\n",
       "<table border=\"1\" class=\"dataframe\">\n",
       "  <thead>\n",
       "    <tr style=\"text-align: right;\">\n",
       "      <th></th>\n",
       "      <th>candidate_id</th>\n",
       "      <th>candidate_gender</th>\n",
       "      <th>is_top</th>\n",
       "    </tr>\n",
       "  </thead>\n",
       "  <tbody>\n",
       "    <tr>\n",
       "      <th>0</th>\n",
       "      <td>2315074</td>\n",
       "      <td>Male</td>\n",
       "      <td>0</td>\n",
       "    </tr>\n",
       "    <tr>\n",
       "      <th>2</th>\n",
       "      <td>2313410</td>\n",
       "      <td>Male</td>\n",
       "      <td>1</td>\n",
       "    </tr>\n",
       "    <tr>\n",
       "      <th>3</th>\n",
       "      <td>2313410</td>\n",
       "      <td>Male</td>\n",
       "      <td>0</td>\n",
       "    </tr>\n",
       "    <tr>\n",
       "      <th>4</th>\n",
       "      <td>2311327</td>\n",
       "      <td>Male</td>\n",
       "      <td>0</td>\n",
       "    </tr>\n",
       "    <tr>\n",
       "      <th>7</th>\n",
       "      <td>2311253</td>\n",
       "      <td>Male</td>\n",
       "      <td>0</td>\n",
       "    </tr>\n",
       "  </tbody>\n",
       "</table>\n",
       "</div>"
      ],
      "text/plain": [
       "   candidate_id candidate_gender  is_top\n",
       "0       2315074             Male       0\n",
       "2       2313410             Male       1\n",
       "3       2313410             Male       0\n",
       "4       2311327             Male       0\n",
       "7       2311253             Male       0"
      ]
     },
     "execution_count": 445,
     "metadata": {},
     "output_type": "execute_result"
    }
   ],
   "source": [
    "gender_df = general_info[['candidate_id', 'candidate_gender']]\n",
    "top_school_df = candidate_top_edu[['candidate_id', 'is_top']]\n",
    "\n",
    "gender_top_school = pd.merge(gender_df, top_school_df, on='candidate_id')\n",
    "gender_top_school.set_index('candidate_id')\n",
    "\n",
    "gender_top_school = gender_top_school.drop_duplicates().dropna()\n",
    "gender_top_school[:5]"
   ]
  },
  {
   "cell_type": "code",
   "execution_count": 446,
   "metadata": {
    "collapsed": false
   },
   "outputs": [
    {
     "data": {
      "text/html": [
       "<div>\n",
       "<table border=\"1\" class=\"dataframe\">\n",
       "  <thead>\n",
       "    <tr style=\"text-align: right;\">\n",
       "      <th>is_top</th>\n",
       "      <th>0</th>\n",
       "      <th>1</th>\n",
       "    </tr>\n",
       "    <tr>\n",
       "      <th>candidate_gender</th>\n",
       "      <th></th>\n",
       "      <th></th>\n",
       "    </tr>\n",
       "  </thead>\n",
       "  <tbody>\n",
       "    <tr>\n",
       "      <th>Female</th>\n",
       "      <td>28</td>\n",
       "      <td>10</td>\n",
       "    </tr>\n",
       "    <tr>\n",
       "      <th>Male</th>\n",
       "      <td>210</td>\n",
       "      <td>53</td>\n",
       "    </tr>\n",
       "    <tr>\n",
       "      <th>Unknown</th>\n",
       "      <td>1</td>\n",
       "      <td>0</td>\n",
       "    </tr>\n",
       "  </tbody>\n",
       "</table>\n",
       "</div>"
      ],
      "text/plain": [
       "is_top              0   1\n",
       "candidate_gender         \n",
       "Female             28  10\n",
       "Male              210  53\n",
       "Unknown             1   0"
      ]
     },
     "execution_count": 446,
     "metadata": {},
     "output_type": "execute_result"
    }
   ],
   "source": [
    "gender_top_school_tab = pd.crosstab(gender_top_school.candidate_gender, gender_top_school.is_top, margins=False)\n",
    "gender_top_school_tab"
   ]
  },
  {
   "cell_type": "code",
   "execution_count": 450,
   "metadata": {
    "collapsed": false
   },
   "outputs": [
    {
     "data": {
      "text/plain": [
       "Power_divergenceResult(statistic=array([ 324.41004184,   75.52380952]), pvalue=array([  3.59132309e-71,   3.98302595e-17]))"
      ]
     },
     "execution_count": 450,
     "metadata": {},
     "output_type": "execute_result"
    }
   ],
   "source": [
    "# Not sure!!\n",
    "stats.chisquare(gender_top_school_tab)"
   ]
  },
  {
   "cell_type": "code",
   "execution_count": null,
   "metadata": {
    "collapsed": false
   },
   "outputs": [],
   "source": []
  },
  {
   "cell_type": "markdown",
   "metadata": {},
   "source": [
    "## Before working for Activision"
   ]
  },
  {
   "cell_type": "code",
   "execution_count": null,
   "metadata": {
    "collapsed": true
   },
   "outputs": [],
   "source": [
    "def company_before_activision(data):\n",
    "    data\n",
    "    \n",
    "    \n",
    "company_before_activision(employment_info)"
   ]
  },
  {
   "cell_type": "code",
   "execution_count": null,
   "metadata": {
    "collapsed": false
   },
   "outputs": [],
   "source": []
  },
  {
   "cell_type": "code",
   "execution_count": null,
   "metadata": {
    "collapsed": false
   },
   "outputs": [],
   "source": []
  },
  {
   "cell_type": "code",
   "execution_count": null,
   "metadata": {
    "collapsed": true
   },
   "outputs": [],
   "source": []
  },
  {
   "cell_type": "code",
   "execution_count": null,
   "metadata": {
    "collapsed": false
   },
   "outputs": [],
   "source": []
  },
  {
   "cell_type": "code",
   "execution_count": null,
   "metadata": {
    "collapsed": false
   },
   "outputs": [],
   "source": []
  },
  {
   "cell_type": "code",
   "execution_count": null,
   "metadata": {
    "collapsed": true
   },
   "outputs": [],
   "source": []
  },
  {
   "cell_type": "code",
   "execution_count": null,
   "metadata": {
    "collapsed": true
   },
   "outputs": [],
   "source": []
  },
  {
   "cell_type": "code",
   "execution_count": null,
   "metadata": {
    "collapsed": true
   },
   "outputs": [],
   "source": []
  },
  {
   "cell_type": "code",
   "execution_count": null,
   "metadata": {
    "collapsed": true
   },
   "outputs": [],
   "source": []
  },
  {
   "cell_type": "code",
   "execution_count": null,
   "metadata": {
    "collapsed": true
   },
   "outputs": [],
   "source": []
  }
 ],
 "metadata": {
  "anaconda-cloud": {},
  "kernelspec": {
   "display_name": "Python 2",
   "language": "python",
   "name": "python2"
  },
  "language_info": {
   "codemirror_mode": {
    "name": "ipython",
    "version": 2
   },
   "file_extension": ".py",
   "mimetype": "text/x-python",
   "name": "python",
   "nbconvert_exporter": "python",
   "pygments_lexer": "ipython2",
   "version": "2.7.12"
  }
 },
 "nbformat": 4,
 "nbformat_minor": 0
}
